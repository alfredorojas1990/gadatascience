{
 "cells": [
  {
   "cell_type": "markdown",
   "metadata": {},
   "source": [
    "# Final Project 3\n",
    "\n",
    "In this project, the exploratory analysis plan developed for the Final project. This will lay the groundwork for the model to be executed in Final project 4. "
   ]
  },
  {
   "cell_type": "markdown",
   "metadata": {},
   "source": [
    "### Step 1: Loading the python libraries needed for this project "
   ]
  },
  {
   "cell_type": "code",
   "execution_count": 123,
   "metadata": {},
   "outputs": [],
   "source": [
    "from __future__ import division\n",
    "import pandas as pd\n",
    "import numpy as np\n",
    "import matplotlib.pyplot as plt\n",
    "import statsmodels.api as sm\n",
    "import pylab as pl\n",
    "import numpy as np\n",
    "%matplotlib inline"
   ]
  },
  {
   "cell_type": "markdown",
   "metadata": {},
   "source": [
    "### Reading the data set "
   ]
  },
  {
   "cell_type": "code",
   "execution_count": 152,
   "metadata": {},
   "outputs": [
    {
     "name": "stdout",
     "output_type": "stream",
     "text": [
      "   customerID  gender  SeniorCitizen Partner Dependents  tenure PhoneService  \\\n",
      "0  7590-VHVEG  Female              0     Yes         No       1           No   \n",
      "1  5575-GNVDE    Male              0      No         No      34          Yes   \n",
      "2  3668-QPYBK    Male              0      No         No       2          Yes   \n",
      "3  7795-CFOCW    Male              0      No         No      45           No   \n",
      "4  9237-HQITU  Female              0      No         No       2          Yes   \n",
      "\n",
      "      MultipleLines InternetService OnlineSecurity  ...   DeviceProtection  \\\n",
      "0  No phone service             DSL             No  ...                 No   \n",
      "1                No             DSL            Yes  ...                Yes   \n",
      "2                No             DSL            Yes  ...                 No   \n",
      "3  No phone service             DSL            Yes  ...                Yes   \n",
      "4                No     Fiber optic             No  ...                 No   \n",
      "\n",
      "  TechSupport StreamingTV StreamingMovies        Contract PaperlessBilling  \\\n",
      "0          No          No              No  Month-to-month              Yes   \n",
      "1          No          No              No        One year               No   \n",
      "2          No          No              No  Month-to-month              Yes   \n",
      "3         Yes          No              No        One year               No   \n",
      "4          No          No              No  Month-to-month              Yes   \n",
      "\n",
      "               PaymentMethod MonthlyCharges  TotalCharges  Churn  \n",
      "0           Electronic check          29.85         29.85     No  \n",
      "1               Mailed check          56.95       1889.50     No  \n",
      "2               Mailed check          53.85        108.15    Yes  \n",
      "3  Bank transfer (automatic)          42.30       1840.75     No  \n",
      "4           Electronic check          70.70        151.65    Yes  \n",
      "\n",
      "[5 rows x 21 columns]\n"
     ]
    }
   ],
   "source": [
    "#Read in data from source \n",
    "df_raw = pd.read_csv(\"./datasets/WA_Fn-UseC_-Telco-Customer-Churn.csv\")\n",
    "print df_raw.head()"
   ]
  },
  {
   "cell_type": "markdown",
   "metadata": {},
   "source": [
    "#### Observations in data set"
   ]
  },
  {
   "cell_type": "code",
   "execution_count": 153,
   "metadata": {
    "scrolled": false
   },
   "outputs": [
    {
     "data": {
      "text/plain": [
       "customerID          7032\n",
       "gender              7032\n",
       "SeniorCitizen       7032\n",
       "Partner             7032\n",
       "Dependents          7032\n",
       "tenure              7032\n",
       "PhoneService        7032\n",
       "MultipleLines       7032\n",
       "InternetService     7032\n",
       "OnlineSecurity      7032\n",
       "OnlineBackup        7032\n",
       "DeviceProtection    7032\n",
       "TechSupport         7032\n",
       "StreamingTV         7032\n",
       "StreamingMovies     7032\n",
       "Contract            7032\n",
       "PaperlessBilling    7032\n",
       "PaymentMethod       7032\n",
       "MonthlyCharges      7032\n",
       "TotalCharges        7032\n",
       "Churn               7032\n",
       "dtype: int64"
      ]
     },
     "execution_count": 153,
     "metadata": {},
     "output_type": "execute_result"
    }
   ],
   "source": [
    "df_raw.count()"
   ]
  },
  {
   "cell_type": "markdown",
   "metadata": {},
   "source": [
    "We can find 7032 for each column and no empty rows or cells "
   ]
  },
  {
   "cell_type": "markdown",
   "metadata": {},
   "source": [
    "#### Summary table"
   ]
  },
  {
   "cell_type": "code",
   "execution_count": 154,
   "metadata": {},
   "outputs": [
    {
     "data": {
      "text/plain": [
       "customerID           object\n",
       "gender               object\n",
       "SeniorCitizen         int64\n",
       "Partner              object\n",
       "Dependents           object\n",
       "tenure                int64\n",
       "PhoneService         object\n",
       "MultipleLines        object\n",
       "InternetService      object\n",
       "OnlineSecurity       object\n",
       "OnlineBackup         object\n",
       "DeviceProtection     object\n",
       "TechSupport          object\n",
       "StreamingTV          object\n",
       "StreamingMovies      object\n",
       "Contract             object\n",
       "PaperlessBilling     object\n",
       "PaymentMethod        object\n",
       "MonthlyCharges      float64\n",
       "TotalCharges        float64\n",
       "Churn                object\n",
       "dtype: object"
      ]
     },
     "execution_count": 154,
     "metadata": {},
     "output_type": "execute_result"
    }
   ],
   "source": [
    "df_raw.dtypes"
   ]
  },
  {
   "cell_type": "code",
   "execution_count": 155,
   "metadata": {},
   "outputs": [
    {
     "data": {
      "text/plain": [
       "['customerID',\n",
       " 'gender',\n",
       " 'SeniorCitizen',\n",
       " 'Partner',\n",
       " 'Dependents',\n",
       " 'tenure',\n",
       " 'PhoneService',\n",
       " 'MultipleLines',\n",
       " 'InternetService',\n",
       " 'OnlineSecurity',\n",
       " 'OnlineBackup',\n",
       " 'DeviceProtection',\n",
       " 'TechSupport',\n",
       " 'StreamingTV',\n",
       " 'StreamingMovies',\n",
       " 'Contract',\n",
       " 'PaperlessBilling',\n",
       " 'PaymentMethod',\n",
       " 'MonthlyCharges',\n",
       " 'TotalCharges',\n",
       " 'Churn']"
      ]
     },
     "execution_count": 155,
     "metadata": {},
     "output_type": "execute_result"
    }
   ],
   "source": [
    "col_names = df_raw.columns.tolist()\n",
    "col_names"
   ]
  },
  {
   "cell_type": "markdown",
   "metadata": {},
   "source": [
    "Given the fact that the majority of the columns have strings in their information the best way to anlayze the data we have and create hisotrgrams and correlation matrices around it will be if we translate each category as a number so it can be quantifiable. \n",
    "\n",
    "-The data was divided in 3 sets, one with binary models that include yes or no statements \n",
    "\n",
    "-One set with yes, no or NA sets \n",
    "\n",
    "-A last set with multiple categories around it\n",
    "\n",
    "They will be transformed below: \n",
    "\n"
   ]
  },
  {
   "cell_type": "markdown",
   "metadata": {},
   "source": [
    "### Changing yes/no for binary models"
   ]
  },
  {
   "cell_type": "code",
   "execution_count": 156,
   "metadata": {},
   "outputs": [],
   "source": [
    "df_raw['Partner']=df_raw['Partner'].replace({'Yes': 1, 'No': 0})\n",
    "df_raw['Dependents']=df_raw['Dependents'].replace({'Yes': 1, 'No': 0})\n",
    "df_raw['PhoneService']=df_raw['PhoneService'].replace({'Yes': 1, 'No': 0})\n",
    "df_raw['PaperlessBilling']=df_raw['PaperlessBilling'].replace({'Yes': 1, 'No': 0})\n",
    "df_raw['Churn']=df_raw['Churn'].replace({'Yes': 1, 'No': 0})"
   ]
  },
  {
   "cell_type": "markdown",
   "metadata": {},
   "source": [
    "### Changing multiple answers to numerical sets"
   ]
  },
  {
   "cell_type": "code",
   "execution_count": 157,
   "metadata": {},
   "outputs": [],
   "source": [
    "df_raw['MultipleLines']=df_raw['MultipleLines'].replace({'Yes': 1, 'No': 0, 'No phone service': 2})\n",
    "df_raw['OnlineSecurity']=df_raw['OnlineSecurity'].replace({'Yes': 1, 'No': 0, 'No internet service': 2})\n",
    "df_raw['OnlineBackup']=df_raw['OnlineBackup'].replace({'Yes': 1, 'No': 0, 'No internet service': 2})\n",
    "df_raw['DeviceProtection']=df_raw['DeviceProtection'].replace({'Yes': 1, 'No': 0, 'No internet service': 2})\n",
    "df_raw['TechSupport']=df_raw['TechSupport'].replace({'Yes': 1, 'No': 0, 'No internet service': 2})\n",
    "df_raw['StreamingTV']=df_raw['StreamingTV'].replace({'Yes': 1, 'No': 0, 'No internet service': 2})\n",
    "df_raw['StreamingMovies']=df_raw['StreamingMovies'].replace({'Yes': 1, 'No': 0, 'No internet service': 2})"
   ]
  },
  {
   "cell_type": "markdown",
   "metadata": {},
   "source": [
    "### Changing multiple answers to numerical sets II"
   ]
  },
  {
   "cell_type": "code",
   "execution_count": 158,
   "metadata": {},
   "outputs": [],
   "source": [
    "df_raw['gender']=df_raw['gender'].replace({'Male': 0, 'Female': 1})\n",
    "df_raw['InternetService']=df_raw['InternetService'].replace({'DSL': 0, 'Fiber optic': 1, 'No': 2})\n",
    "df_raw['Contract']=df_raw['Contract'].replace({'Month-to-month': 0, 'One year': 1, 'Two year': 2})\n",
    "df_raw['PaymentMethod']=df_raw['PaymentMethod'].replace({'Electronic check': 0, 'Mailed check': 1, 'Bank transfer (automatic)': 2, 'Credit card (automatic)':3})"
   ]
  },
  {
   "cell_type": "markdown",
   "metadata": {},
   "source": [
    "The result of the transformation can be found here: "
   ]
  },
  {
   "cell_type": "code",
   "execution_count": 159,
   "metadata": {},
   "outputs": [
    {
     "data": {
      "text/html": [
       "<div>\n",
       "<style scoped>\n",
       "    .dataframe tbody tr th:only-of-type {\n",
       "        vertical-align: middle;\n",
       "    }\n",
       "\n",
       "    .dataframe tbody tr th {\n",
       "        vertical-align: top;\n",
       "    }\n",
       "\n",
       "    .dataframe thead th {\n",
       "        text-align: right;\n",
       "    }\n",
       "</style>\n",
       "<table border=\"1\" class=\"dataframe\">\n",
       "  <thead>\n",
       "    <tr style=\"text-align: right;\">\n",
       "      <th></th>\n",
       "      <th>customerID</th>\n",
       "      <th>gender</th>\n",
       "      <th>SeniorCitizen</th>\n",
       "      <th>Partner</th>\n",
       "      <th>Dependents</th>\n",
       "      <th>tenure</th>\n",
       "      <th>PhoneService</th>\n",
       "      <th>MultipleLines</th>\n",
       "      <th>InternetService</th>\n",
       "      <th>OnlineSecurity</th>\n",
       "      <th>...</th>\n",
       "      <th>DeviceProtection</th>\n",
       "      <th>TechSupport</th>\n",
       "      <th>StreamingTV</th>\n",
       "      <th>StreamingMovies</th>\n",
       "      <th>Contract</th>\n",
       "      <th>PaperlessBilling</th>\n",
       "      <th>PaymentMethod</th>\n",
       "      <th>MonthlyCharges</th>\n",
       "      <th>TotalCharges</th>\n",
       "      <th>Churn</th>\n",
       "    </tr>\n",
       "  </thead>\n",
       "  <tbody>\n",
       "    <tr>\n",
       "      <th>0</th>\n",
       "      <td>7590-VHVEG</td>\n",
       "      <td>1</td>\n",
       "      <td>0</td>\n",
       "      <td>1</td>\n",
       "      <td>0</td>\n",
       "      <td>1</td>\n",
       "      <td>0</td>\n",
       "      <td>2</td>\n",
       "      <td>0</td>\n",
       "      <td>0</td>\n",
       "      <td>...</td>\n",
       "      <td>0</td>\n",
       "      <td>0</td>\n",
       "      <td>0</td>\n",
       "      <td>0</td>\n",
       "      <td>0</td>\n",
       "      <td>1</td>\n",
       "      <td>0</td>\n",
       "      <td>29.85</td>\n",
       "      <td>29.85</td>\n",
       "      <td>0</td>\n",
       "    </tr>\n",
       "    <tr>\n",
       "      <th>1</th>\n",
       "      <td>5575-GNVDE</td>\n",
       "      <td>0</td>\n",
       "      <td>0</td>\n",
       "      <td>0</td>\n",
       "      <td>0</td>\n",
       "      <td>34</td>\n",
       "      <td>1</td>\n",
       "      <td>0</td>\n",
       "      <td>0</td>\n",
       "      <td>1</td>\n",
       "      <td>...</td>\n",
       "      <td>1</td>\n",
       "      <td>0</td>\n",
       "      <td>0</td>\n",
       "      <td>0</td>\n",
       "      <td>1</td>\n",
       "      <td>0</td>\n",
       "      <td>1</td>\n",
       "      <td>56.95</td>\n",
       "      <td>1889.50</td>\n",
       "      <td>0</td>\n",
       "    </tr>\n",
       "    <tr>\n",
       "      <th>2</th>\n",
       "      <td>3668-QPYBK</td>\n",
       "      <td>0</td>\n",
       "      <td>0</td>\n",
       "      <td>0</td>\n",
       "      <td>0</td>\n",
       "      <td>2</td>\n",
       "      <td>1</td>\n",
       "      <td>0</td>\n",
       "      <td>0</td>\n",
       "      <td>1</td>\n",
       "      <td>...</td>\n",
       "      <td>0</td>\n",
       "      <td>0</td>\n",
       "      <td>0</td>\n",
       "      <td>0</td>\n",
       "      <td>0</td>\n",
       "      <td>1</td>\n",
       "      <td>1</td>\n",
       "      <td>53.85</td>\n",
       "      <td>108.15</td>\n",
       "      <td>1</td>\n",
       "    </tr>\n",
       "    <tr>\n",
       "      <th>3</th>\n",
       "      <td>7795-CFOCW</td>\n",
       "      <td>0</td>\n",
       "      <td>0</td>\n",
       "      <td>0</td>\n",
       "      <td>0</td>\n",
       "      <td>45</td>\n",
       "      <td>0</td>\n",
       "      <td>2</td>\n",
       "      <td>0</td>\n",
       "      <td>1</td>\n",
       "      <td>...</td>\n",
       "      <td>1</td>\n",
       "      <td>1</td>\n",
       "      <td>0</td>\n",
       "      <td>0</td>\n",
       "      <td>1</td>\n",
       "      <td>0</td>\n",
       "      <td>2</td>\n",
       "      <td>42.30</td>\n",
       "      <td>1840.75</td>\n",
       "      <td>0</td>\n",
       "    </tr>\n",
       "    <tr>\n",
       "      <th>4</th>\n",
       "      <td>9237-HQITU</td>\n",
       "      <td>1</td>\n",
       "      <td>0</td>\n",
       "      <td>0</td>\n",
       "      <td>0</td>\n",
       "      <td>2</td>\n",
       "      <td>1</td>\n",
       "      <td>0</td>\n",
       "      <td>1</td>\n",
       "      <td>0</td>\n",
       "      <td>...</td>\n",
       "      <td>0</td>\n",
       "      <td>0</td>\n",
       "      <td>0</td>\n",
       "      <td>0</td>\n",
       "      <td>0</td>\n",
       "      <td>1</td>\n",
       "      <td>0</td>\n",
       "      <td>70.70</td>\n",
       "      <td>151.65</td>\n",
       "      <td>1</td>\n",
       "    </tr>\n",
       "  </tbody>\n",
       "</table>\n",
       "<p>5 rows × 21 columns</p>\n",
       "</div>"
      ],
      "text/plain": [
       "   customerID  gender  SeniorCitizen  Partner  Dependents  tenure  \\\n",
       "0  7590-VHVEG       1              0        1           0       1   \n",
       "1  5575-GNVDE       0              0        0           0      34   \n",
       "2  3668-QPYBK       0              0        0           0       2   \n",
       "3  7795-CFOCW       0              0        0           0      45   \n",
       "4  9237-HQITU       1              0        0           0       2   \n",
       "\n",
       "   PhoneService  MultipleLines  InternetService  OnlineSecurity  ...    \\\n",
       "0             0              2                0               0  ...     \n",
       "1             1              0                0               1  ...     \n",
       "2             1              0                0               1  ...     \n",
       "3             0              2                0               1  ...     \n",
       "4             1              0                1               0  ...     \n",
       "\n",
       "   DeviceProtection  TechSupport  StreamingTV  StreamingMovies  Contract  \\\n",
       "0                 0            0            0                0         0   \n",
       "1                 1            0            0                0         1   \n",
       "2                 0            0            0                0         0   \n",
       "3                 1            1            0                0         1   \n",
       "4                 0            0            0                0         0   \n",
       "\n",
       "   PaperlessBilling  PaymentMethod  MonthlyCharges  TotalCharges  Churn  \n",
       "0                 1              0           29.85         29.85      0  \n",
       "1                 0              1           56.95       1889.50      0  \n",
       "2                 1              1           53.85        108.15      1  \n",
       "3                 0              2           42.30       1840.75      0  \n",
       "4                 1              0           70.70        151.65      1  \n",
       "\n",
       "[5 rows x 21 columns]"
      ]
     },
     "execution_count": 159,
     "metadata": {},
     "output_type": "execute_result"
    }
   ],
   "source": [
    "df_raw.head()"
   ]
  },
  {
   "cell_type": "markdown",
   "metadata": {},
   "source": [
    "### Histogram creation "
   ]
  },
  {
   "cell_type": "markdown",
   "metadata": {},
   "source": [
    "Once the data was trasnformed we can visually see how is the distribution throught the creation of histograms "
   ]
  },
  {
   "cell_type": "code",
   "execution_count": 160,
   "metadata": {},
   "outputs": [
    {
     "data": {
      "text/plain": [
       "array([[<matplotlib.axes._subplots.AxesSubplot object at 0x1c231a9050>,\n",
       "        <matplotlib.axes._subplots.AxesSubplot object at 0x1c232d6450>,\n",
       "        <matplotlib.axes._subplots.AxesSubplot object at 0x1c232fbc90>,\n",
       "        <matplotlib.axes._subplots.AxesSubplot object at 0x1c2333c150>],\n",
       "       [<matplotlib.axes._subplots.AxesSubplot object at 0x1c232e4110>,\n",
       "        <matplotlib.axes._subplots.AxesSubplot object at 0x1c221319d0>,\n",
       "        <matplotlib.axes._subplots.AxesSubplot object at 0x1c21e5d390>,\n",
       "        <matplotlib.axes._subplots.AxesSubplot object at 0x1c21ea0c90>],\n",
       "       [<matplotlib.axes._subplots.AxesSubplot object at 0x1c21fafc50>,\n",
       "        <matplotlib.axes._subplots.AxesSubplot object at 0x1c21fea590>,\n",
       "        <matplotlib.axes._subplots.AxesSubplot object at 0x1c2202ef10>,\n",
       "        <matplotlib.axes._subplots.AxesSubplot object at 0x1c2207b7d0>],\n",
       "       [<matplotlib.axes._subplots.AxesSubplot object at 0x1c22099d50>,\n",
       "        <matplotlib.axes._subplots.AxesSubplot object at 0x1c21ffe1d0>,\n",
       "        <matplotlib.axes._subplots.AxesSubplot object at 0x1c2251d8d0>,\n",
       "        <matplotlib.axes._subplots.AxesSubplot object at 0x1c22545790>],\n",
       "       [<matplotlib.axes._subplots.AxesSubplot object at 0x1c225abc90>,\n",
       "        <matplotlib.axes._subplots.AxesSubplot object at 0x1c2344a550>,\n",
       "        <matplotlib.axes._subplots.AxesSubplot object at 0x1c23482910>,\n",
       "        <matplotlib.axes._subplots.AxesSubplot object at 0x1c234d1250>]],\n",
       "      dtype=object)"
      ]
     },
     "execution_count": 160,
     "metadata": {},
     "output_type": "execute_result"
    },
    {
     "data": {
      "image/png": "[encoded data removed]",
      "text/plain": [
       "<matplotlib.figure.Figure at 0x1c23215f50>"
      ]
     },
     "metadata": {},
     "output_type": "display_data"
    }
   ],
   "source": [
    "df_raw.hist()"
   ]
  },
  {
   "cell_type": "code",
   "execution_count": 178,
   "metadata": {},
   "outputs": [
    {
     "data": {
      "text/plain": [
       "array([<matplotlib.axes._subplots.AxesSubplot object at 0x1c23a41350>],\n",
       "      dtype=object)"
      ]
     },
     "execution_count": 178,
     "metadata": {},
     "output_type": "execute_result"
    },
    {
     "data": {
      "image/png": "[encoded data removed]",
      "text/plain": [
       "<matplotlib.figure.Figure at 0x1c244df810>"
      ]
     },
     "metadata": {},
     "output_type": "display_data"
    }
   ],
   "source": [
    "fig, axes = plt.subplots(2, 2)\n",
    "\n",
    "df_raw.hist('PhoneService', ax=axes[0,1])\n",
    "df_raw.hist('InternetService', ax=axes[1,1])\n",
    "df_raw.hist('PaymentMethod', ax=axes[0,0])\n",
    "df_raw.hist('tenure', ax=axes[1,0])"
   ]
  },
  {
   "cell_type": "code",
   "execution_count": 176,
   "metadata": {},
   "outputs": [
    {
     "data": {
      "text/plain": [
       "array([<matplotlib.axes._subplots.AxesSubplot object at 0x1c24f32950>],\n",
       "      dtype=object)"
      ]
     },
     "execution_count": 176,
     "metadata": {},
     "output_type": "execute_result"
    },
    {
     "data": {
      "image/png": "[encoded data removed]",
      "text/plain": [
       "<matplotlib.figure.Figure at 0x1c24e1dbd0>"
      ]
     },
     "metadata": {},
     "output_type": "display_data"
    }
   ],
   "source": [
    "fig, axes = plt.subplots(2, 2)\n",
    "\n",
    "df_raw.hist('Churn', ax=axes[0,1])\n",
    "df_raw.hist('Contract', ax=axes[1,1])\n",
    "df_raw.hist('MonthlyCharges', ax=axes[0,0])\n",
    "df_raw.hist('TotalCharges', ax=axes[1,0])"
   ]
  },
  {
   "cell_type": "markdown",
   "metadata": {},
   "source": [
    "-It can be seen from here that the majority of the users have are in a monthly basis \n",
    "\n",
    "-That the Monthly we have a high representation in the lower bracket of the spectrum \n",
    "\n",
    "-Regarding the total charges the same trend can be found \n",
    "\n",
    "-And surpringsingly there is a high number of users that have left already. \n",
    "\n",
    "-Regarding payment methods is equally distributed with a higher concentration for electronic checks \n",
    "\n",
    "-One conclusion that can be taken from here already is why do they have so many users in a month to month basis, how they can move that commitment to a year or 2 contract \n",
    "\n",
    "-Other aspect is how can they move that segment with no internet service to have it with the company."
   ]
  },
  {
   "cell_type": "markdown",
   "metadata": {},
   "source": [
    "#### Box Plots creation"
   ]
  },
  {
   "cell_type": "code",
   "execution_count": 182,
   "metadata": {},
   "outputs": [
    {
     "data": {
      "text/plain": [
       "<matplotlib.axes._subplots.AxesSubplot at 0x1c257c4a50>"
      ]
     },
     "execution_count": 182,
     "metadata": {},
     "output_type": "execute_result"
    },
    {
     "data": {
      "image/png": "[encoded data removed]",
      "text/plain": [
       "<matplotlib.figure.Figure at 0x1c256cc690>"
      ]
     },
     "metadata": {},
     "output_type": "display_data"
    }
   ],
   "source": [
    "fig, axes = plt.subplots(2, 2)\n",
    "\n",
    "df_raw.boxplot('TotalCharges', ax=axes[0,1])\n",
    "df_raw.boxplot('tenure', ax=axes[1,1])\n",
    "df_raw.boxplot('MonthlyCharges', ax=axes[0,0])\n",
    "df_raw.boxplot('PaymentMethod', ax=axes[1,0])"
   ]
  },
  {
   "cell_type": "markdown",
   "metadata": {},
   "source": [
    "-Joining the histograms with this information it can be seen how even though the majority of the users are in a month to motnh contract the median tenure is 30 months \n",
    "\n",
    "-So the conclusion of this part is that some efforts need to be done in order to increase the upgrades to a higher commitment\n",
    "\n",
    "-Even though there is a big set of users that are not paying higher than 30 dollars the median amount for monthly charges is around 60. So is this related to which type of services of type of contracts and how this can be understood better. \n",
    "\n",
    "-There is a set of outliers that are paying way highers amounts of money in their annual totals. Who are these people and which are their characteristics "
   ]
  },
  {
   "cell_type": "code",
   "execution_count": 161,
   "metadata": {},
   "outputs": [
    {
     "data": {
      "text/html": [
       "<div>\n",
       "<style scoped>\n",
       "    .dataframe tbody tr th:only-of-type {\n",
       "        vertical-align: middle;\n",
       "    }\n",
       "\n",
       "    .dataframe tbody tr th {\n",
       "        vertical-align: top;\n",
       "    }\n",
       "\n",
       "    .dataframe thead th {\n",
       "        text-align: right;\n",
       "    }\n",
       "</style>\n",
       "<table border=\"1\" class=\"dataframe\">\n",
       "  <thead>\n",
       "    <tr style=\"text-align: right;\">\n",
       "      <th></th>\n",
       "      <th>gender</th>\n",
       "      <th>SeniorCitizen</th>\n",
       "      <th>Partner</th>\n",
       "      <th>Dependents</th>\n",
       "      <th>tenure</th>\n",
       "      <th>PhoneService</th>\n",
       "      <th>MultipleLines</th>\n",
       "      <th>InternetService</th>\n",
       "      <th>OnlineSecurity</th>\n",
       "      <th>OnlineBackup</th>\n",
       "      <th>DeviceProtection</th>\n",
       "      <th>TechSupport</th>\n",
       "      <th>StreamingTV</th>\n",
       "      <th>StreamingMovies</th>\n",
       "      <th>Contract</th>\n",
       "      <th>PaperlessBilling</th>\n",
       "      <th>PaymentMethod</th>\n",
       "      <th>MonthlyCharges</th>\n",
       "      <th>TotalCharges</th>\n",
       "      <th>Churn</th>\n",
       "    </tr>\n",
       "  </thead>\n",
       "  <tbody>\n",
       "    <tr>\n",
       "      <th>count</th>\n",
       "      <td>7032.000000</td>\n",
       "      <td>7032.000000</td>\n",
       "      <td>7032.000000</td>\n",
       "      <td>7032.000000</td>\n",
       "      <td>7032.000000</td>\n",
       "      <td>7032.000000</td>\n",
       "      <td>7032.000000</td>\n",
       "      <td>7032.000000</td>\n",
       "      <td>7032.000000</td>\n",
       "      <td>7032.000000</td>\n",
       "      <td>7032.000000</td>\n",
       "      <td>7032.000000</td>\n",
       "      <td>7032.000000</td>\n",
       "      <td>7032.000000</td>\n",
       "      <td>7032.000000</td>\n",
       "      <td>7032.000000</td>\n",
       "      <td>7032.000000</td>\n",
       "      <td>7032.000000</td>\n",
       "      <td>7032.000000</td>\n",
       "      <td>7032.000000</td>\n",
       "    </tr>\n",
       "    <tr>\n",
       "      <th>mean</th>\n",
       "      <td>0.495307</td>\n",
       "      <td>0.162400</td>\n",
       "      <td>0.482509</td>\n",
       "      <td>0.298493</td>\n",
       "      <td>32.421786</td>\n",
       "      <td>0.903299</td>\n",
       "      <td>0.615330</td>\n",
       "      <td>0.872582</td>\n",
       "      <td>0.718857</td>\n",
       "      <td>0.777162</td>\n",
       "      <td>0.776166</td>\n",
       "      <td>0.722412</td>\n",
       "      <td>0.816695</td>\n",
       "      <td>0.820677</td>\n",
       "      <td>0.688567</td>\n",
       "      <td>0.592719</td>\n",
       "      <td>1.315557</td>\n",
       "      <td>64.798208</td>\n",
       "      <td>2283.300441</td>\n",
       "      <td>0.265785</td>\n",
       "    </tr>\n",
       "    <tr>\n",
       "      <th>std</th>\n",
       "      <td>0.500014</td>\n",
       "      <td>0.368844</td>\n",
       "      <td>0.499729</td>\n",
       "      <td>0.457629</td>\n",
       "      <td>24.545260</td>\n",
       "      <td>0.295571</td>\n",
       "      <td>0.655867</td>\n",
       "      <td>0.737271</td>\n",
       "      <td>0.796556</td>\n",
       "      <td>0.778188</td>\n",
       "      <td>0.778542</td>\n",
       "      <td>0.795571</td>\n",
       "      <td>0.762952</td>\n",
       "      <td>0.761287</td>\n",
       "      <td>0.832934</td>\n",
       "      <td>0.491363</td>\n",
       "      <td>1.149523</td>\n",
       "      <td>30.085974</td>\n",
       "      <td>2266.771362</td>\n",
       "      <td>0.441782</td>\n",
       "    </tr>\n",
       "    <tr>\n",
       "      <th>min</th>\n",
       "      <td>0.000000</td>\n",
       "      <td>0.000000</td>\n",
       "      <td>0.000000</td>\n",
       "      <td>0.000000</td>\n",
       "      <td>1.000000</td>\n",
       "      <td>0.000000</td>\n",
       "      <td>0.000000</td>\n",
       "      <td>0.000000</td>\n",
       "      <td>0.000000</td>\n",
       "      <td>0.000000</td>\n",
       "      <td>0.000000</td>\n",
       "      <td>0.000000</td>\n",
       "      <td>0.000000</td>\n",
       "      <td>0.000000</td>\n",
       "      <td>0.000000</td>\n",
       "      <td>0.000000</td>\n",
       "      <td>0.000000</td>\n",
       "      <td>18.250000</td>\n",
       "      <td>18.800000</td>\n",
       "      <td>0.000000</td>\n",
       "    </tr>\n",
       "    <tr>\n",
       "      <th>25%</th>\n",
       "      <td>0.000000</td>\n",
       "      <td>0.000000</td>\n",
       "      <td>0.000000</td>\n",
       "      <td>0.000000</td>\n",
       "      <td>9.000000</td>\n",
       "      <td>1.000000</td>\n",
       "      <td>0.000000</td>\n",
       "      <td>0.000000</td>\n",
       "      <td>0.000000</td>\n",
       "      <td>0.000000</td>\n",
       "      <td>0.000000</td>\n",
       "      <td>0.000000</td>\n",
       "      <td>0.000000</td>\n",
       "      <td>0.000000</td>\n",
       "      <td>0.000000</td>\n",
       "      <td>0.000000</td>\n",
       "      <td>0.000000</td>\n",
       "      <td>35.587500</td>\n",
       "      <td>401.450000</td>\n",
       "      <td>0.000000</td>\n",
       "    </tr>\n",
       "    <tr>\n",
       "      <th>50%</th>\n",
       "      <td>0.000000</td>\n",
       "      <td>0.000000</td>\n",
       "      <td>0.000000</td>\n",
       "      <td>0.000000</td>\n",
       "      <td>29.000000</td>\n",
       "      <td>1.000000</td>\n",
       "      <td>1.000000</td>\n",
       "      <td>1.000000</td>\n",
       "      <td>1.000000</td>\n",
       "      <td>1.000000</td>\n",
       "      <td>1.000000</td>\n",
       "      <td>1.000000</td>\n",
       "      <td>1.000000</td>\n",
       "      <td>1.000000</td>\n",
       "      <td>0.000000</td>\n",
       "      <td>1.000000</td>\n",
       "      <td>1.000000</td>\n",
       "      <td>70.350000</td>\n",
       "      <td>1397.475000</td>\n",
       "      <td>0.000000</td>\n",
       "    </tr>\n",
       "    <tr>\n",
       "      <th>75%</th>\n",
       "      <td>1.000000</td>\n",
       "      <td>0.000000</td>\n",
       "      <td>1.000000</td>\n",
       "      <td>1.000000</td>\n",
       "      <td>55.000000</td>\n",
       "      <td>1.000000</td>\n",
       "      <td>1.000000</td>\n",
       "      <td>1.000000</td>\n",
       "      <td>1.000000</td>\n",
       "      <td>1.000000</td>\n",
       "      <td>1.000000</td>\n",
       "      <td>1.000000</td>\n",
       "      <td>1.000000</td>\n",
       "      <td>1.000000</td>\n",
       "      <td>1.000000</td>\n",
       "      <td>1.000000</td>\n",
       "      <td>2.000000</td>\n",
       "      <td>89.862500</td>\n",
       "      <td>3794.737500</td>\n",
       "      <td>1.000000</td>\n",
       "    </tr>\n",
       "    <tr>\n",
       "      <th>max</th>\n",
       "      <td>1.000000</td>\n",
       "      <td>1.000000</td>\n",
       "      <td>1.000000</td>\n",
       "      <td>1.000000</td>\n",
       "      <td>72.000000</td>\n",
       "      <td>1.000000</td>\n",
       "      <td>2.000000</td>\n",
       "      <td>2.000000</td>\n",
       "      <td>2.000000</td>\n",
       "      <td>2.000000</td>\n",
       "      <td>2.000000</td>\n",
       "      <td>2.000000</td>\n",
       "      <td>2.000000</td>\n",
       "      <td>2.000000</td>\n",
       "      <td>2.000000</td>\n",
       "      <td>1.000000</td>\n",
       "      <td>3.000000</td>\n",
       "      <td>118.750000</td>\n",
       "      <td>8684.800000</td>\n",
       "      <td>1.000000</td>\n",
       "    </tr>\n",
       "  </tbody>\n",
       "</table>\n",
       "</div>"
      ],
      "text/plain": [
       "            gender  SeniorCitizen      Partner   Dependents       tenure  \\\n",
       "count  7032.000000    7032.000000  7032.000000  7032.000000  7032.000000   \n",
       "mean      0.495307       0.162400     0.482509     0.298493    32.421786   \n",
       "std       0.500014       0.368844     0.499729     0.457629    24.545260   \n",
       "min       0.000000       0.000000     0.000000     0.000000     1.000000   \n",
       "25%       0.000000       0.000000     0.000000     0.000000     9.000000   \n",
       "50%       0.000000       0.000000     0.000000     0.000000    29.000000   \n",
       "75%       1.000000       0.000000     1.000000     1.000000    55.000000   \n",
       "max       1.000000       1.000000     1.000000     1.000000    72.000000   \n",
       "\n",
       "       PhoneService  MultipleLines  InternetService  OnlineSecurity  \\\n",
       "count   7032.000000    7032.000000      7032.000000     7032.000000   \n",
       "mean       0.903299       0.615330         0.872582        0.718857   \n",
       "std        0.295571       0.655867         0.737271        0.796556   \n",
       "min        0.000000       0.000000         0.000000        0.000000   \n",
       "25%        1.000000       0.000000         0.000000        0.000000   \n",
       "50%        1.000000       1.000000         1.000000        1.000000   \n",
       "75%        1.000000       1.000000         1.000000        1.000000   \n",
       "max        1.000000       2.000000         2.000000        2.000000   \n",
       "\n",
       "       OnlineBackup  DeviceProtection  TechSupport  StreamingTV  \\\n",
       "count   7032.000000       7032.000000  7032.000000  7032.000000   \n",
       "mean       0.777162          0.776166     0.722412     0.816695   \n",
       "std        0.778188          0.778542     0.795571     0.762952   \n",
       "min        0.000000          0.000000     0.000000     0.000000   \n",
       "25%        0.000000          0.000000     0.000000     0.000000   \n",
       "50%        1.000000          1.000000     1.000000     1.000000   \n",
       "75%        1.000000          1.000000     1.000000     1.000000   \n",
       "max        2.000000          2.000000     2.000000     2.000000   \n",
       "\n",
       "       StreamingMovies     Contract  PaperlessBilling  PaymentMethod  \\\n",
       "count      7032.000000  7032.000000       7032.000000    7032.000000   \n",
       "mean          0.820677     0.688567          0.592719       1.315557   \n",
       "std           0.761287     0.832934          0.491363       1.149523   \n",
       "min           0.000000     0.000000          0.000000       0.000000   \n",
       "25%           0.000000     0.000000          0.000000       0.000000   \n",
       "50%           1.000000     0.000000          1.000000       1.000000   \n",
       "75%           1.000000     1.000000          1.000000       2.000000   \n",
       "max           2.000000     2.000000          1.000000       3.000000   \n",
       "\n",
       "       MonthlyCharges  TotalCharges        Churn  \n",
       "count     7032.000000   7032.000000  7032.000000  \n",
       "mean        64.798208   2283.300441     0.265785  \n",
       "std         30.085974   2266.771362     0.441782  \n",
       "min         18.250000     18.800000     0.000000  \n",
       "25%         35.587500    401.450000     0.000000  \n",
       "50%         70.350000   1397.475000     0.000000  \n",
       "75%         89.862500   3794.737500     1.000000  \n",
       "max        118.750000   8684.800000     1.000000  "
      ]
     },
     "execution_count": 161,
     "metadata": {},
     "output_type": "execute_result"
    }
   ],
   "source": [
    "df_raw.describe()"
   ]
  },
  {
   "cell_type": "code",
   "execution_count": 188,
   "metadata": {},
   "outputs": [],
   "source": [
    "df_raw_high=df_raw.loc[df_raw[\"TotalCharges\"]>=2000]\n"
   ]
  },
  {
   "cell_type": "code",
   "execution_count": 190,
   "metadata": {},
   "outputs": [
    {
     "data": {
      "text/plain": [
       "array([[<matplotlib.axes._subplots.AxesSubplot object at 0x1c254ce550>,\n",
       "        <matplotlib.axes._subplots.AxesSubplot object at 0x1c258f7410>,\n",
       "        <matplotlib.axes._subplots.AxesSubplot object at 0x1c259d6d90>,\n",
       "        <matplotlib.axes._subplots.AxesSubplot object at 0x1c25a0a7d0>],\n",
       "       [<matplotlib.axes._subplots.AxesSubplot object at 0x1c25b6f050>,\n",
       "        <matplotlib.axes._subplots.AxesSubplot object at 0x1c25bbc450>,\n",
       "        <matplotlib.axes._subplots.AxesSubplot object at 0x1c25bf8210>,\n",
       "        <matplotlib.axes._subplots.AxesSubplot object at 0x1c25c37d90>],\n",
       "       [<matplotlib.axes._subplots.AxesSubplot object at 0x1c25c84750>,\n",
       "        <matplotlib.axes._subplots.AxesSubplot object at 0x1c25cd1190>,\n",
       "        <matplotlib.axes._subplots.AxesSubplot object at 0x1c25ce5710>,\n",
       "        <matplotlib.axes._subplots.AxesSubplot object at 0x1c25d4b9d0>],\n",
       "       [<matplotlib.axes._subplots.AxesSubplot object at 0x1c25d97910>,\n",
       "        <matplotlib.axes._subplots.AxesSubplot object at 0x1c25dc1690>,\n",
       "        <matplotlib.axes._subplots.AxesSubplot object at 0x1c25e26bd0>,\n",
       "        <matplotlib.axes._subplots.AxesSubplot object at 0x1c25e59a90>],\n",
       "       [<matplotlib.axes._subplots.AxesSubplot object at 0x1c25eac650>,\n",
       "        <matplotlib.axes._subplots.AxesSubplot object at 0x1c25eedfd0>,\n",
       "        <matplotlib.axes._subplots.AxesSubplot object at 0x1c25f39a10>,\n",
       "        <matplotlib.axes._subplots.AxesSubplot object at 0x1c25f6d310>]],\n",
       "      dtype=object)"
      ]
     },
     "execution_count": 190,
     "metadata": {},
     "output_type": "execute_result"
    },
    {
     "data": {
      "image/png": "[encoded data removed]",
      "text/plain": [
       "<matplotlib.figure.Figure at 0x1c2589ba90>"
      ]
     },
     "metadata": {},
     "output_type": "display_data"
    }
   ],
   "source": [
    "df_raw_high.hist()"
   ]
  },
  {
   "cell_type": "code",
   "execution_count": 194,
   "metadata": {},
   "outputs": [
    {
     "data": {
      "text/plain": [
       "array([[<matplotlib.axes._subplots.AxesSubplot object at 0x1c26a8df10>,\n",
       "        <matplotlib.axes._subplots.AxesSubplot object at 0x1c26987e10>,\n",
       "        <matplotlib.axes._subplots.AxesSubplot object at 0x1c24bd3e10>,\n",
       "        <matplotlib.axes._subplots.AxesSubplot object at 0x1c26eae9d0>],\n",
       "       [<matplotlib.axes._subplots.AxesSubplot object at 0x1c26ed7750>,\n",
       "        <matplotlib.axes._subplots.AxesSubplot object at 0x1c26f22e90>,\n",
       "        <matplotlib.axes._subplots.AxesSubplot object at 0x1c26f698d0>,\n",
       "        <matplotlib.axes._subplots.AxesSubplot object at 0x1c26f89ed0>],\n",
       "       [<matplotlib.axes._subplots.AxesSubplot object at 0x1c26ff9c10>,\n",
       "        <matplotlib.axes._subplots.AxesSubplot object at 0x1c26f7f510>,\n",
       "        <matplotlib.axes._subplots.AxesSubplot object at 0x1c27080690>,\n",
       "        <matplotlib.axes._subplots.AxesSubplot object at 0x1c270cf5d0>],\n",
       "       [<matplotlib.axes._subplots.AxesSubplot object at 0x1c27111f50>,\n",
       "        <matplotlib.axes._subplots.AxesSubplot object at 0x1c2715e810>,\n",
       "        <matplotlib.axes._subplots.AxesSubplot object at 0x1c2719a4d0>,\n",
       "        <matplotlib.axes._subplots.AxesSubplot object at 0x1c271e9410>],\n",
       "       [<matplotlib.axes._subplots.AxesSubplot object at 0x1c2722bd90>,\n",
       "        <matplotlib.axes._subplots.AxesSubplot object at 0x1c272786d0>,\n",
       "        <matplotlib.axes._subplots.AxesSubplot object at 0x1c272b5910>,\n",
       "        <matplotlib.axes._subplots.AxesSubplot object at 0x1c272de7d0>]],\n",
       "      dtype=object)"
      ]
     },
     "execution_count": 194,
     "metadata": {},
     "output_type": "execute_result"
    },
    {
     "data": {
      "image/png": "[encoded data removed]",
      "text/plain": [
       "<matplotlib.figure.Figure at 0x1c26838150>"
      ]
     },
     "metadata": {},
     "output_type": "display_data"
    }
   ],
   "source": [
    "df_raw_low=df_raw.loc[df_raw[\"TotalCharges\"]<=720]\n",
    "df_raw_low.hist()"
   ]
  },
  {
   "cell_type": "markdown",
   "metadata": {},
   "source": [
    "From these 2 sets some other conclusions can be said. \n",
    "\n",
    "On one side the users that are paying the highest are Internet users and more towards the fiber optics side with a high tenure of the service and more equally distributed between the different types of contract. (But still too high for the monthly one). The majority of these users are not churning at all\n",
    "\n",
    "On the opposite side of the users whose totals are lower that the monthly median it can be seen that they are mainly users of DSL, no phone service and almost everyone in month to month services. On top of that the are churning almost 50/50 in the distribution. \n",
    "\n",
    "The conclusion of this is that one of the main pain points regarding chruning can be found in the montlhy contracts and the type of services they have. "
   ]
  },
  {
   "cell_type": "code",
   "execution_count": 202,
   "metadata": {},
   "outputs": [],
   "source": [
    "df_raw_churn=df_raw.loc[df_raw[\"Churn\"]==1]"
   ]
  },
  {
   "cell_type": "code",
   "execution_count": 203,
   "metadata": {},
   "outputs": [
    {
     "data": {
      "text/plain": [
       "array([[<matplotlib.axes._subplots.AxesSubplot object at 0x1c29252f10>,\n",
       "        <matplotlib.axes._subplots.AxesSubplot object at 0x1c29242990>,\n",
       "        <matplotlib.axes._subplots.AxesSubplot object at 0x1c287c4ed0>,\n",
       "        <matplotlib.axes._subplots.AxesSubplot object at 0x1c29379350>],\n",
       "       [<matplotlib.axes._subplots.AxesSubplot object at 0x1c293e3250>,\n",
       "        <matplotlib.axes._subplots.AxesSubplot object at 0x1c2941f110>,\n",
       "        <matplotlib.axes._subplots.AxesSubplot object at 0x1c2945ec10>,\n",
       "        <matplotlib.axes._subplots.AxesSubplot object at 0x1c294af550>],\n",
       "       [<matplotlib.axes._subplots.AxesSubplot object at 0x1c294efed0>,\n",
       "        <matplotlib.axes._subplots.AxesSubplot object at 0x1c294cea90>,\n",
       "        <matplotlib.axes._subplots.AxesSubplot object at 0x1c29579a50>,\n",
       "        <matplotlib.axes._subplots.AxesSubplot object at 0x1c295c7410>],\n",
       "       [<matplotlib.axes._subplots.AxesSubplot object at 0x1c29606c90>,\n",
       "        <matplotlib.axes._subplots.AxesSubplot object at 0x1c29634310>,\n",
       "        <matplotlib.axes._subplots.AxesSubplot object at 0x1c29693710>,\n",
       "        <matplotlib.axes._subplots.AxesSubplot object at 0x1c296e1150>],\n",
       "       [<matplotlib.axes._subplots.AxesSubplot object at 0x1c296ff690>,\n",
       "        <matplotlib.axes._subplots.AxesSubplot object at 0x1c29772490>,\n",
       "        <matplotlib.axes._subplots.AxesSubplot object at 0x1c29730a90>,\n",
       "        <matplotlib.axes._subplots.AxesSubplot object at 0x1c297fc090>]],\n",
       "      dtype=object)"
      ]
     },
     "execution_count": 203,
     "metadata": {},
     "output_type": "execute_result"
    },
    {
     "data": {
      "image/png": "[encoded data removed]",
      "text/plain": [
       "<matplotlib.figure.Figure at 0x1c28f5b350>"
      ]
     },
     "metadata": {},
     "output_type": "display_data"
    }
   ],
   "source": [
    "df_raw_churn.hist()"
   ]
  },
  {
   "cell_type": "code",
   "execution_count": 165,
   "metadata": {},
   "outputs": [
    {
     "name": "stdout",
     "output_type": "stream",
     "text": [
      "                    gender  SeniorCitizen   Partner  Dependents    tenure  \\\n",
      "gender            1.000000       0.001819  0.001379   -0.010349 -0.005285   \n",
      "SeniorCitizen     0.001819       1.000000  0.016957   -0.210550  0.015683   \n",
      "Partner           0.001379       0.016957  1.000000    0.452269  0.381912   \n",
      "Dependents       -0.010349      -0.210550  0.452269    1.000000  0.163386   \n",
      "tenure           -0.005285       0.015683  0.381912    0.163386  1.000000   \n",
      "PhoneService      0.007515       0.008392  0.018397   -0.001078  0.007877   \n",
      "MultipleLines    -0.000084       0.100120  0.090774   -0.017333  0.243214   \n",
      "InternetService   0.002236      -0.032160  0.000513    0.044030 -0.029835   \n",
      "OnlineSecurity    0.004365      -0.210546  0.081078    0.188889  0.147575   \n",
      "OnlineBackup      0.002978      -0.152380  0.086346    0.160845  0.180896   \n",
      "DeviceProtection -0.004526      -0.156700  0.093391    0.154819  0.180895   \n",
      "TechSupport      -0.000057      -0.223438  0.068277    0.179176  0.146727   \n",
      "StreamingTV      -0.000578      -0.129721  0.079066    0.138809  0.138208   \n",
      "StreamingMovies   0.001339      -0.120658  0.075310    0.125086  0.142143   \n",
      "Contract         -0.000095      -0.141820  0.294094    0.240556  0.676734   \n",
      "PaperlessBilling  0.011902       0.156258 -0.013957   -0.110131  0.004823   \n",
      "PaymentMethod     0.004928      -0.093712  0.133280    0.124002  0.340939   \n",
      "MonthlyCharges    0.013779       0.219874  0.097825   -0.112343  0.246862   \n",
      "TotalCharges     -0.000048       0.102411  0.319072    0.064653  0.825880   \n",
      "Churn             0.008545       0.150541 -0.149982   -0.163128 -0.354049   \n",
      "\n",
      "                  PhoneService  MultipleLines  InternetService  \\\n",
      "gender                0.007515      -0.000084         0.002236   \n",
      "SeniorCitizen         0.008392       0.100120        -0.032160   \n",
      "Partner               0.018397       0.090774         0.000513   \n",
      "Dependents           -0.001078      -0.017333         0.044030   \n",
      "tenure                0.007877       0.243214        -0.029835   \n",
      "PhoneService          1.000000      -0.690813         0.387266   \n",
      "MultipleLines        -0.690813       1.000000        -0.340504   \n",
      "InternetService       0.387266      -0.340504         1.000000   \n",
      "OnlineSecurity        0.125544      -0.235077         0.607412   \n",
      "OnlineBackup          0.149932      -0.210051         0.658001   \n",
      "DeviceProtection      0.138938      -0.200400         0.662685   \n",
      "TechSupport           0.123533      -0.232474         0.609422   \n",
      "StreamingTV           0.171773      -0.202326         0.712715   \n",
      "StreamingMovies       0.164379      -0.194858         0.708336   \n",
      "Contract              0.003019       0.078254         0.099579   \n",
      "PaperlessBilling      0.016696       0.108261        -0.138166   \n",
      "PaymentMethod        -0.003106       0.029916         0.008851   \n",
      "MonthlyCharges        0.248033       0.146127        -0.322173   \n",
      "TotalCharges          0.113008       0.251357        -0.175691   \n",
      "Churn                 0.011691       0.019609        -0.047097   \n",
      "\n",
      "                  OnlineSecurity  OnlineBackup  DeviceProtection  TechSupport  \\\n",
      "gender                  0.004365      0.002978         -0.004526    -0.000057   \n",
      "SeniorCitizen          -0.210546     -0.152380         -0.156700    -0.223438   \n",
      "Partner                 0.081078      0.086346          0.093391     0.068277   \n",
      "Dependents              0.188889      0.160845          0.154819     0.179176   \n",
      "tenure                  0.147575      0.180896          0.180895     0.146727   \n",
      "PhoneService            0.125544      0.149932          0.138938     0.123533   \n",
      "MultipleLines          -0.235077     -0.210051         -0.200400    -0.232474   \n",
      "InternetService         0.607412      0.658001          0.662685     0.609422   \n",
      "OnlineSecurity          1.000000      0.751312          0.748684     0.790951   \n",
      "OnlineBackup            0.751312      1.000000          0.740244     0.753752   \n",
      "DeviceProtection        0.748684      0.740244          1.000000     0.767659   \n",
      "TechSupport             0.790951      0.753752          0.767659     1.000000   \n",
      "StreamingTV             0.701526      0.720277          0.762742     0.737211   \n",
      "StreamingMovies         0.704672      0.716388          0.766635     0.737126   \n",
      "Contract                0.389138      0.350419          0.389480     0.417691   \n",
      "PaperlessBilling       -0.333656     -0.261565         -0.275519    -0.310354   \n",
      "PaymentMethod           0.214330      0.183555          0.192405     0.217412   \n",
      "MonthlyCharges         -0.620532     -0.537727         -0.512604    -0.596805   \n",
      "TotalCharges           -0.153234     -0.085017         -0.077394    -0.141011   \n",
      "Churn                  -0.332443     -0.291047         -0.281048    -0.329474   \n",
      "\n",
      "                  StreamingTV  StreamingMovies  Contract  PaperlessBilling  \\\n",
      "gender              -0.000578         0.001339 -0.000095          0.011902   \n",
      "SeniorCitizen       -0.129721        -0.120658 -0.141820          0.156258   \n",
      "Partner              0.079066         0.075310  0.294094         -0.013957   \n",
      "Dependents           0.138809         0.125086  0.240556         -0.110131   \n",
      "tenure               0.138208         0.142143  0.676734          0.004823   \n",
      "PhoneService         0.171773         0.164379  0.003019          0.016696   \n",
      "MultipleLines       -0.202326        -0.194858  0.078254          0.108261   \n",
      "InternetService      0.712715         0.708336  0.099579         -0.138166   \n",
      "OnlineSecurity       0.701526         0.704672  0.389138         -0.333656   \n",
      "OnlineBackup         0.720277         0.716388  0.350419         -0.261565   \n",
      "DeviceProtection     0.762742         0.766635  0.389480         -0.275519   \n",
      "TechSupport          0.737211         0.737126  0.417691         -0.310354   \n",
      "StreamingTV          1.000000         0.809507  0.327109         -0.202967   \n",
      "StreamingMovies      0.809507         1.000000  0.331126         -0.211242   \n",
      "Contract             0.327109         0.331126  1.000000         -0.175475   \n",
      "PaperlessBilling    -0.202967        -0.211242 -0.175475          1.000000   \n",
      "PaymentMethod        0.118181         0.124805  0.359487         -0.101790   \n",
      "MonthlyCharges      -0.422060        -0.423773 -0.072739          0.351930   \n",
      "TotalCharges        -0.075697        -0.072571  0.450306          0.157830   \n",
      "Churn               -0.205246        -0.207150 -0.396150          0.191454   \n",
      "\n",
      "                  PaymentMethod  MonthlyCharges  TotalCharges     Churn  \n",
      "gender                 0.004928        0.013779     -0.000048  0.008545  \n",
      "SeniorCitizen         -0.093712        0.219874      0.102411  0.150541  \n",
      "Partner                0.133280        0.097825      0.319072 -0.149982  \n",
      "Dependents             0.124002       -0.112343      0.064653 -0.163128  \n",
      "tenure                 0.340939        0.246862      0.825880 -0.354049  \n",
      "PhoneService          -0.003106        0.248033      0.113008  0.011691  \n",
      "MultipleLines          0.029916        0.146127      0.251357  0.019609  \n",
      "InternetService        0.008851       -0.322173     -0.175691 -0.047097  \n",
      "OnlineSecurity         0.214330       -0.620532     -0.153234 -0.332443  \n",
      "OnlineBackup           0.183555       -0.537727     -0.085017 -0.291047  \n",
      "DeviceProtection       0.192405       -0.512604     -0.077394 -0.281048  \n",
      "TechSupport            0.217412       -0.596805     -0.141011 -0.329474  \n",
      "StreamingTV            0.118181       -0.422060     -0.075697 -0.205246  \n",
      "StreamingMovies        0.124805       -0.423773     -0.072571 -0.207150  \n",
      "Contract               0.359487       -0.072739      0.450306 -0.396150  \n",
      "PaperlessBilling      -0.101790        0.351930      0.157830  0.191454  \n",
      "PaymentMethod          1.000000       -0.074640      0.222694 -0.262918  \n",
      "MonthlyCharges        -0.074640        1.000000      0.651065  0.192858  \n",
      "TotalCharges           0.222694        0.651065      1.000000 -0.199484  \n",
      "Churn                 -0.262918        0.192858     -0.199484  1.000000  \n"
     ]
    }
   ],
   "source": [
    "print df_raw.corr()"
   ]
  },
  {
   "cell_type": "code",
   "execution_count": 164,
   "metadata": {},
   "outputs": [
    {
     "data": {
      "text/plain": [
       "<matplotlib.image.AxesImage at 0x1c2437b5d0>"
      ]
     },
     "execution_count": 164,
     "metadata": {},
     "output_type": "execute_result"
    },
    {
     "data": {
      "image/png": "[encoded data removed]",
      "text/plain": [
       "<matplotlib.figure.Figure at 0x1c23db49d0>"
      ]
     },
     "metadata": {},
     "output_type": "display_data"
    }
   ],
   "source": [
    "plt.matshow(df_raw.corr())"
   ]
  },
  {
   "cell_type": "markdown",
   "metadata": {},
   "source": [
    "From the matrix of correlation it can be clearly seen that there are some variables that are highly correlated and shouldnt be accounted in the model creation. \n",
    "\n",
    "These can be classified in 2 different categories. \n",
    "\n",
    "The ones related with the phone services and the ones related with the internet services \n",
    "\n",
    "Regarding the phone variables: the multiple lines variable is highly correlated with the phone service one, so the phone service only should be included in the set \n",
    "\n",
    "Regarding the internet related variables: the online security, online backup, device protection, techsupport, streamingtv and streaming movies are highly correlated between each other and with the Internet service column so we can exclude them from the model.\n",
    "\n",
    "The efforts behind this analysis is to avoid multicollinearity at the time of the creation of the model. \n",
    "\n",
    "\n"
   ]
  },
  {
   "cell_type": "markdown",
   "metadata": {},
   "source": [
    "### Final comments "
   ]
  },
  {
   "cell_type": "markdown",
   "metadata": {},
   "source": [
    "The initial hypothesis is around if the type of contract is influencing somehow how do the type of contract can be one of the main factors influencing the churning of customers \n",
    "\n",
    "Only with slicing it and creating clusters regarding the total payments it can be seen how this hypothesis starts to take shape\n",
    "\n",
    "On top of that multicollinearity shows how it is important to take out variables that in the end can make confusing the output of the model \n",
    "\n"
   ]
  }
 ],
 "metadata": {
  "kernelspec": {
   "display_name": "Python 2",
   "language": "python",
   "name": "python2"
  },
  "language_info": {
   "codemirror_mode": {
    "name": "ipython",
    "version": 2
   },
   "file_extension": ".py",
   "mimetype": "text/x-python",
   "name": "python",
   "nbconvert_exporter": "python",
   "pygments_lexer": "ipython2",
   "version": "2.7.14"
  }
 },
 "nbformat": 4,
 "nbformat_minor": 1
}
