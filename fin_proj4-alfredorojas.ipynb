{
 "cells": [
  {
   "cell_type": "markdown",
   "metadata": {},
   "source": [
    "       \n",
    "# Final Project 4\n",
    "\n",
    "In this project the final model creation will be done with comparisons of performance and analyzing the outcome of it "
   ]
  },
  {
   "cell_type": "markdown",
   "metadata": {},
   "source": [
    "### Step 1: Loading the python libraries needed for this project "
   ]
  },
  {
   "cell_type": "code",
   "execution_count": 2,
   "metadata": {},
   "outputs": [],
   "source": [
    "\n",
    "import pandas as pd\n",
    "import numpy as np\n",
    "import matplotlib.pyplot as plt\n",
    "import statsmodels.api as sm\n",
    "\n",
    "from sklearn import cross_validation\n",
    "from sklearn.tree import DecisionTreeClassifier, export_graphviz\n",
    "from os import system \n",
    "from sklearn.cross_validation import cross_val_score\n",
    "from sklearn.ensemble import RandomForestClassifier\n",
    "from sklearn import grid_search\n",
    "\n",
    "from sklearn.externals.six import StringIO  \n",
    "from IPython.display import Image  \n",
    "import pydotplus ## Install with `conda install pydotplus`, if necessary\n",
    "\n",
    "%matplotlib inline"
   ]
  },
  {
   "cell_type": "markdown",
   "metadata": {},
   "source": [
    "### Step 2: Reading the data set "
   ]
  },
  {
   "cell_type": "code",
   "execution_count": 3,
   "metadata": {},
   "outputs": [
    {
     "name": "stdout",
     "output_type": "stream",
     "text": [
      "   customerID  gender  SeniorCitizen Partner Dependents  tenure PhoneService  \\\n",
      "0  7590-VHVEG  Female              0     Yes         No       1           No   \n",
      "1  5575-GNVDE    Male              0      No         No      34          Yes   \n",
      "2  3668-QPYBK    Male              0      No         No       2          Yes   \n",
      "3  7795-CFOCW    Male              0      No         No      45           No   \n",
      "4  9237-HQITU  Female              0      No         No       2          Yes   \n",
      "\n",
      "      MultipleLines InternetService OnlineSecurity  ...   DeviceProtection  \\\n",
      "0  No phone service             DSL             No  ...                 No   \n",
      "1                No             DSL            Yes  ...                Yes   \n",
      "2                No             DSL            Yes  ...                 No   \n",
      "3  No phone service             DSL            Yes  ...                Yes   \n",
      "4                No     Fiber optic             No  ...                 No   \n",
      "\n",
      "  TechSupport StreamingTV StreamingMovies        Contract PaperlessBilling  \\\n",
      "0          No          No              No  Month-to-month              Yes   \n",
      "1          No          No              No        One year               No   \n",
      "2          No          No              No  Month-to-month              Yes   \n",
      "3         Yes          No              No        One year               No   \n",
      "4          No          No              No  Month-to-month              Yes   \n",
      "\n",
      "               PaymentMethod MonthlyCharges  TotalCharges  Churn  \n",
      "0           Electronic check          29.85         29.85     No  \n",
      "1               Mailed check          56.95       1889.50     No  \n",
      "2               Mailed check          53.85        108.15    Yes  \n",
      "3  Bank transfer (automatic)          42.30       1840.75     No  \n",
      "4           Electronic check          70.70        151.65    Yes  \n",
      "\n",
      "[5 rows x 21 columns]\n"
     ]
    }
   ],
   "source": [
    "#Read in data from source \n",
    "df_raw = pd.read_csv(\"./datasets/WA_Fn-UseC_-Telco-Customer-Churn.csv\")\n",
    "df = df_raw.copy()\n",
    "print(df_raw.head())"
   ]
  },
  {
   "cell_type": "markdown",
   "metadata": {},
   "source": [
    "### Step 3: Pre-processing"
   ]
  },
  {
   "cell_type": "code",
   "execution_count": 5,
   "metadata": {},
   "outputs": [],
   "source": [
    "for col in ['Partner','Dependents','PhoneService','PaperlessBilling','Churn']:\n",
    "     df_raw[col].replace({'Yes': 1, 'No': 0}, inplace=True)"
   ]
  },
  {
   "cell_type": "code",
   "execution_count": 6,
   "metadata": {},
   "outputs": [],
   "source": [
    "for col in ['MultipleLines']:\n",
    "     df_raw[col].replace({'Yes': 1, 'No': 0, 'No phone service': 2}, inplace=True)"
   ]
  },
  {
   "cell_type": "code",
   "execution_count": 7,
   "metadata": {},
   "outputs": [],
   "source": [
    "for col in ['OnlineSecurity','OnlineBackup','DeviceProtection','TechSupport','StreamingTV','StreamingMovies']:\n",
    "     df_raw[col].replace({'Yes': 1, 'No': 0, 'No internet service': 2}, inplace=True)"
   ]
  },
  {
   "cell_type": "code",
   "execution_count": 8,
   "metadata": {},
   "outputs": [],
   "source": [
    "df_raw['gender']=df_raw['gender'].replace({'Male': 0, 'Female': 1})\n",
    "df_raw['InternetService']=df_raw['InternetService'].replace({'DSL': 0, 'Fiber optic': 1, 'No': 2})\n",
    "df_raw['Contract']=df_raw['Contract'].replace({'Month-to-month': 0, 'One year': 1, 'Two year': 2})\n",
    "df_raw['PaymentMethod']=df_raw['PaymentMethod'].replace({'Electronic check': 0, 'Mailed check': 1, 'Bank transfer (automatic)': 2, 'Credit card (automatic)':3})"
   ]
  },
  {
   "cell_type": "markdown",
   "metadata": {},
   "source": [
    "From the dataset and from the previous analisys it could be studied the correlation between variables and which features are important to analyze in this matter. \n",
    "\n",
    "The correlation study will be included below:"
   ]
  },
  {
   "cell_type": "code",
   "execution_count": 9,
   "metadata": {},
   "outputs": [
    {
     "data": {
      "image/png": "[encoded data removed]",
      "text/plain": [
       "<matplotlib.figure.Figure at 0x1c0faaf650>"
      ]
     },
     "metadata": {},
     "output_type": "display_data"
    }
   ],
   "source": [
    "#plt.matshow(df_raw.corr())\n",
    "\n",
    "# Try this:\n",
    "plt.figure(figsize=(12,12))\n",
    "ax = plt.matshow(df_raw.corr(), fignum=1)\n",
    "plt.xticks(rotation=45)\n",
    "ax.axes.set_xticklabels(['']+df_raw.columns.tolist())\n",
    "ax.axes.xaxis.set_major_locator(plt.MultipleLocator(1))\n",
    "ax.axes.set_yticklabels(['']+df_raw.columns.tolist())\n",
    "ax.axes.yaxis.set_major_locator(plt.MultipleLocator(1))"
   ]
  },
  {
   "cell_type": "markdown",
   "metadata": {},
   "source": [
    "Coming from the results of the matrix of correlation is where we can start drawing conclusions about which variables we dont need to account in order to avoid multicollinearity.     "
   ]
  },
  {
   "cell_type": "code",
   "execution_count": 10,
   "metadata": {},
   "outputs": [],
   "source": [
    "#Convert 'M'/'F' to 1/0\n",
    "df['gender']=df['gender'].replace({'Male': 0, 'Female': 1})\n",
    "\n",
    "# Converting binary variables from strings to numbers\n",
    "for col in ['Partner','Dependents','PhoneService','PaperlessBilling','Churn']:\n",
    "     df[col].replace({'Yes': 1, 'No': 0}, inplace=True)"
   ]
  },
  {
   "cell_type": "code",
   "execution_count": 9,
   "metadata": {},
   "outputs": [
    {
     "data": {
      "text/html": [
       "<div>\n",
       "<style scoped>\n",
       "    .dataframe tbody tr th:only-of-type {\n",
       "        vertical-align: middle;\n",
       "    }\n",
       "\n",
       "    .dataframe tbody tr th {\n",
       "        vertical-align: top;\n",
       "    }\n",
       "\n",
       "    .dataframe thead th {\n",
       "        text-align: right;\n",
       "    }\n",
       "</style>\n",
       "<table border=\"1\" class=\"dataframe\">\n",
       "  <thead>\n",
       "    <tr style=\"text-align: right;\">\n",
       "      <th></th>\n",
       "      <th>customerID</th>\n",
       "      <th>gender</th>\n",
       "      <th>SeniorCitizen</th>\n",
       "      <th>Partner</th>\n",
       "      <th>Dependents</th>\n",
       "      <th>tenure</th>\n",
       "      <th>PhoneService</th>\n",
       "      <th>MultipleLines</th>\n",
       "      <th>InternetService</th>\n",
       "      <th>OnlineSecurity</th>\n",
       "      <th>...</th>\n",
       "      <th>DeviceProtection</th>\n",
       "      <th>TechSupport</th>\n",
       "      <th>StreamingTV</th>\n",
       "      <th>StreamingMovies</th>\n",
       "      <th>Contract</th>\n",
       "      <th>PaperlessBilling</th>\n",
       "      <th>PaymentMethod</th>\n",
       "      <th>MonthlyCharges</th>\n",
       "      <th>TotalCharges</th>\n",
       "      <th>Churn</th>\n",
       "    </tr>\n",
       "  </thead>\n",
       "  <tbody>\n",
       "    <tr>\n",
       "      <th>0</th>\n",
       "      <td>7590-VHVEG</td>\n",
       "      <td>1</td>\n",
       "      <td>0</td>\n",
       "      <td>1</td>\n",
       "      <td>0</td>\n",
       "      <td>1</td>\n",
       "      <td>0</td>\n",
       "      <td>No phone service</td>\n",
       "      <td>DSL</td>\n",
       "      <td>No</td>\n",
       "      <td>...</td>\n",
       "      <td>No</td>\n",
       "      <td>No</td>\n",
       "      <td>No</td>\n",
       "      <td>No</td>\n",
       "      <td>Month-to-month</td>\n",
       "      <td>1</td>\n",
       "      <td>Electronic check</td>\n",
       "      <td>29.85</td>\n",
       "      <td>29.85</td>\n",
       "      <td>0</td>\n",
       "    </tr>\n",
       "    <tr>\n",
       "      <th>1</th>\n",
       "      <td>5575-GNVDE</td>\n",
       "      <td>0</td>\n",
       "      <td>0</td>\n",
       "      <td>0</td>\n",
       "      <td>0</td>\n",
       "      <td>34</td>\n",
       "      <td>1</td>\n",
       "      <td>No</td>\n",
       "      <td>DSL</td>\n",
       "      <td>Yes</td>\n",
       "      <td>...</td>\n",
       "      <td>Yes</td>\n",
       "      <td>No</td>\n",
       "      <td>No</td>\n",
       "      <td>No</td>\n",
       "      <td>One year</td>\n",
       "      <td>0</td>\n",
       "      <td>Mailed check</td>\n",
       "      <td>56.95</td>\n",
       "      <td>1889.50</td>\n",
       "      <td>0</td>\n",
       "    </tr>\n",
       "    <tr>\n",
       "      <th>2</th>\n",
       "      <td>3668-QPYBK</td>\n",
       "      <td>0</td>\n",
       "      <td>0</td>\n",
       "      <td>0</td>\n",
       "      <td>0</td>\n",
       "      <td>2</td>\n",
       "      <td>1</td>\n",
       "      <td>No</td>\n",
       "      <td>DSL</td>\n",
       "      <td>Yes</td>\n",
       "      <td>...</td>\n",
       "      <td>No</td>\n",
       "      <td>No</td>\n",
       "      <td>No</td>\n",
       "      <td>No</td>\n",
       "      <td>Month-to-month</td>\n",
       "      <td>1</td>\n",
       "      <td>Mailed check</td>\n",
       "      <td>53.85</td>\n",
       "      <td>108.15</td>\n",
       "      <td>1</td>\n",
       "    </tr>\n",
       "    <tr>\n",
       "      <th>3</th>\n",
       "      <td>7795-CFOCW</td>\n",
       "      <td>0</td>\n",
       "      <td>0</td>\n",
       "      <td>0</td>\n",
       "      <td>0</td>\n",
       "      <td>45</td>\n",
       "      <td>0</td>\n",
       "      <td>No phone service</td>\n",
       "      <td>DSL</td>\n",
       "      <td>Yes</td>\n",
       "      <td>...</td>\n",
       "      <td>Yes</td>\n",
       "      <td>Yes</td>\n",
       "      <td>No</td>\n",
       "      <td>No</td>\n",
       "      <td>One year</td>\n",
       "      <td>0</td>\n",
       "      <td>Bank transfer (automatic)</td>\n",
       "      <td>42.30</td>\n",
       "      <td>1840.75</td>\n",
       "      <td>0</td>\n",
       "    </tr>\n",
       "    <tr>\n",
       "      <th>4</th>\n",
       "      <td>9237-HQITU</td>\n",
       "      <td>1</td>\n",
       "      <td>0</td>\n",
       "      <td>0</td>\n",
       "      <td>0</td>\n",
       "      <td>2</td>\n",
       "      <td>1</td>\n",
       "      <td>No</td>\n",
       "      <td>Fiber optic</td>\n",
       "      <td>No</td>\n",
       "      <td>...</td>\n",
       "      <td>No</td>\n",
       "      <td>No</td>\n",
       "      <td>No</td>\n",
       "      <td>No</td>\n",
       "      <td>Month-to-month</td>\n",
       "      <td>1</td>\n",
       "      <td>Electronic check</td>\n",
       "      <td>70.70</td>\n",
       "      <td>151.65</td>\n",
       "      <td>1</td>\n",
       "    </tr>\n",
       "  </tbody>\n",
       "</table>\n",
       "<p>5 rows × 21 columns</p>\n",
       "</div>"
      ],
      "text/plain": [
       "   customerID  gender  SeniorCitizen  Partner  Dependents  tenure  \\\n",
       "0  7590-VHVEG       1              0        1           0       1   \n",
       "1  5575-GNVDE       0              0        0           0      34   \n",
       "2  3668-QPYBK       0              0        0           0       2   \n",
       "3  7795-CFOCW       0              0        0           0      45   \n",
       "4  9237-HQITU       1              0        0           0       2   \n",
       "\n",
       "   PhoneService     MultipleLines InternetService OnlineSecurity  ...    \\\n",
       "0             0  No phone service             DSL             No  ...     \n",
       "1             1                No             DSL            Yes  ...     \n",
       "2             1                No             DSL            Yes  ...     \n",
       "3             0  No phone service             DSL            Yes  ...     \n",
       "4             1                No     Fiber optic             No  ...     \n",
       "\n",
       "  DeviceProtection TechSupport StreamingTV StreamingMovies        Contract  \\\n",
       "0               No          No          No              No  Month-to-month   \n",
       "1              Yes          No          No              No        One year   \n",
       "2               No          No          No              No  Month-to-month   \n",
       "3              Yes         Yes          No              No        One year   \n",
       "4               No          No          No              No  Month-to-month   \n",
       "\n",
       "  PaperlessBilling              PaymentMethod MonthlyCharges  TotalCharges  \\\n",
       "0                1           Electronic check          29.85         29.85   \n",
       "1                0               Mailed check          56.95       1889.50   \n",
       "2                1               Mailed check          53.85        108.15   \n",
       "3                0  Bank transfer (automatic)          42.30       1840.75   \n",
       "4                1           Electronic check          70.70        151.65   \n",
       "\n",
       "   Churn  \n",
       "0      0  \n",
       "1      0  \n",
       "2      1  \n",
       "3      0  \n",
       "4      1  \n",
       "\n",
       "[5 rows x 21 columns]"
      ]
     },
     "execution_count": 9,
     "metadata": {},
     "output_type": "execute_result"
    }
   ],
   "source": [
    "df.head()"
   ]
  },
  {
   "cell_type": "markdown",
   "metadata": {},
   "source": [
    "Droppping the columns that are not going to be used to avoid multicollinearity, the binary features were transformed in a previous step"
   ]
  },
  {
   "cell_type": "code",
   "execution_count": 10,
   "metadata": {},
   "outputs": [
    {
     "data": {
      "text/html": [
       "<div>\n",
       "<style scoped>\n",
       "    .dataframe tbody tr th:only-of-type {\n",
       "        vertical-align: middle;\n",
       "    }\n",
       "\n",
       "    .dataframe tbody tr th {\n",
       "        vertical-align: top;\n",
       "    }\n",
       "\n",
       "    .dataframe thead th {\n",
       "        text-align: right;\n",
       "    }\n",
       "</style>\n",
       "<table border=\"1\" class=\"dataframe\">\n",
       "  <thead>\n",
       "    <tr style=\"text-align: right;\">\n",
       "      <th></th>\n",
       "      <th>gender</th>\n",
       "      <th>SeniorCitizen</th>\n",
       "      <th>Partner</th>\n",
       "      <th>Dependents</th>\n",
       "      <th>tenure</th>\n",
       "      <th>PhoneService</th>\n",
       "      <th>InternetService</th>\n",
       "      <th>Contract</th>\n",
       "      <th>PaperlessBilling</th>\n",
       "      <th>PaymentMethod</th>\n",
       "      <th>MonthlyCharges</th>\n",
       "      <th>Churn</th>\n",
       "    </tr>\n",
       "  </thead>\n",
       "  <tbody>\n",
       "    <tr>\n",
       "      <th>0</th>\n",
       "      <td>1</td>\n",
       "      <td>0</td>\n",
       "      <td>1</td>\n",
       "      <td>0</td>\n",
       "      <td>1</td>\n",
       "      <td>0</td>\n",
       "      <td>DSL</td>\n",
       "      <td>Month-to-month</td>\n",
       "      <td>1</td>\n",
       "      <td>Electronic check</td>\n",
       "      <td>29.85</td>\n",
       "      <td>0</td>\n",
       "    </tr>\n",
       "    <tr>\n",
       "      <th>1</th>\n",
       "      <td>0</td>\n",
       "      <td>0</td>\n",
       "      <td>0</td>\n",
       "      <td>0</td>\n",
       "      <td>34</td>\n",
       "      <td>1</td>\n",
       "      <td>DSL</td>\n",
       "      <td>One year</td>\n",
       "      <td>0</td>\n",
       "      <td>Mailed check</td>\n",
       "      <td>56.95</td>\n",
       "      <td>0</td>\n",
       "    </tr>\n",
       "    <tr>\n",
       "      <th>2</th>\n",
       "      <td>0</td>\n",
       "      <td>0</td>\n",
       "      <td>0</td>\n",
       "      <td>0</td>\n",
       "      <td>2</td>\n",
       "      <td>1</td>\n",
       "      <td>DSL</td>\n",
       "      <td>Month-to-month</td>\n",
       "      <td>1</td>\n",
       "      <td>Mailed check</td>\n",
       "      <td>53.85</td>\n",
       "      <td>1</td>\n",
       "    </tr>\n",
       "    <tr>\n",
       "      <th>3</th>\n",
       "      <td>0</td>\n",
       "      <td>0</td>\n",
       "      <td>0</td>\n",
       "      <td>0</td>\n",
       "      <td>45</td>\n",
       "      <td>0</td>\n",
       "      <td>DSL</td>\n",
       "      <td>One year</td>\n",
       "      <td>0</td>\n",
       "      <td>Bank transfer (automatic)</td>\n",
       "      <td>42.30</td>\n",
       "      <td>0</td>\n",
       "    </tr>\n",
       "    <tr>\n",
       "      <th>4</th>\n",
       "      <td>1</td>\n",
       "      <td>0</td>\n",
       "      <td>0</td>\n",
       "      <td>0</td>\n",
       "      <td>2</td>\n",
       "      <td>1</td>\n",
       "      <td>Fiber optic</td>\n",
       "      <td>Month-to-month</td>\n",
       "      <td>1</td>\n",
       "      <td>Electronic check</td>\n",
       "      <td>70.70</td>\n",
       "      <td>1</td>\n",
       "    </tr>\n",
       "  </tbody>\n",
       "</table>\n",
       "</div>"
      ],
      "text/plain": [
       "   gender  SeniorCitizen  Partner  Dependents  tenure  PhoneService  \\\n",
       "0       1              0        1           0       1             0   \n",
       "1       0              0        0           0      34             1   \n",
       "2       0              0        0           0       2             1   \n",
       "3       0              0        0           0      45             0   \n",
       "4       1              0        0           0       2             1   \n",
       "\n",
       "  InternetService        Contract  PaperlessBilling  \\\n",
       "0             DSL  Month-to-month                 1   \n",
       "1             DSL        One year                 0   \n",
       "2             DSL  Month-to-month                 1   \n",
       "3             DSL        One year                 0   \n",
       "4     Fiber optic  Month-to-month                 1   \n",
       "\n",
       "               PaymentMethod  MonthlyCharges  Churn  \n",
       "0           Electronic check           29.85      0  \n",
       "1               Mailed check           56.95      0  \n",
       "2               Mailed check           53.85      1  \n",
       "3  Bank transfer (automatic)           42.30      0  \n",
       "4           Electronic check           70.70      1  "
      ]
     },
     "execution_count": 10,
     "metadata": {},
     "output_type": "execute_result"
    }
   ],
   "source": [
    "df=df[['gender','SeniorCitizen','Partner','Dependents','tenure','PhoneService','InternetService','Contract','PaperlessBilling','PaymentMethod','MonthlyCharges','Churn']]\n",
    "df.head()"
   ]
  },
  {
   "cell_type": "markdown",
   "metadata": {},
   "source": [
    "Now the dummy variables will be created from the features 'InternetService','Contract' and 'PaymentMethod'     \n"
   ]
  },
  {
   "cell_type": "code",
   "execution_count": 13,
   "metadata": {},
   "outputs": [
    {
     "name": "stdout",
     "output_type": "stream",
     "text": [
      "   IntServ_DSL  IntServ_Fiber optic  IntServ_No\n",
      "0            1                    0           0\n",
      "1            1                    0           0\n",
      "2            1                    0           0\n",
      "3            1                    0           0\n",
      "4            0                    1           0\n"
     ]
    }
   ],
   "source": [
    "# Transform dummy vars with specified prefixes\n",
    "dummy_IntServ = pd.get_dummies(df['InternetService'], prefix='IntServ')\n",
    "dummy_Contract = pd.get_dummies(df['Contract'], prefix='Contract')\n",
    "dummy_PayMethod = pd.get_dummies(df['PaymentMethod'], prefix='PayMethod')\n",
    "dummy_Contract = pd.get_dummies(df['Contract'], prefix='Contract')\n",
    "\n",
    "# Print 5 examples\n",
    "print(dummy_IntServ.head())\n",
    "#print(dummy_Contract.head())\n",
    "#print(dummy_PayMethod.head())\n",
    "#print(dummy_Contract.head())"
   ]
  },
  {
   "cell_type": "markdown",
   "metadata": {},
   "source": [
    "The columns that will be chosen for the model will be selected here and the dummy variables in the way (n-1) will be added to it"
   ]
  },
  {
   "cell_type": "code",
   "execution_count": 18,
   "metadata": {},
   "outputs": [
    {
     "name": "stdout",
     "output_type": "stream",
     "text": [
      "   Churn  gender  SeniorCitizen  Partner  Dependents  tenure  PhoneService  \\\n",
      "0      0       1              0        1           0       1             0   \n",
      "1      0       0              0        0           0      34             1   \n",
      "2      1       0              0        0           0       2             1   \n",
      "3      0       0              0        0           0      45             0   \n",
      "4      1       1              0        0           0       2             1   \n",
      "\n",
      "   PaperlessBilling  MonthlyCharges  IntServ_Fiber optic  IntServ_No  \\\n",
      "0                 1           29.85                    0           0   \n",
      "1                 0           56.95                    0           0   \n",
      "2                 1           53.85                    0           0   \n",
      "3                 0           42.30                    0           0   \n",
      "4                 1           70.70                    1           0   \n",
      "\n",
      "   Contract_One year  Contract_Two year  PayMethod_Credit card (automatic)  \\\n",
      "0                  0                  0                                  0   \n",
      "1                  1                  0                                  0   \n",
      "2                  0                  0                                  0   \n",
      "3                  1                  0                                  0   \n",
      "4                  0                  0                                  0   \n",
      "\n",
      "   PayMethod_Electronic check  PayMethod_Mailed check  \n",
      "0                           1                       0  \n",
      "1                           0                       1  \n",
      "2                           0                       1  \n",
      "3                           0                       0  \n",
      "4                           1                       0  \n"
     ]
    }
   ],
   "source": [
    "cols_to_keep = ['Churn','gender', 'SeniorCitizen', 'Partner','Dependents','tenure','PhoneService','PaperlessBilling','MonthlyCharges']\n",
    "data = df[cols_to_keep].join(dummy_IntServ.loc[:, 'IntServ_Fiber Optic':])\n",
    "data = data.join(dummy_Contract.loc[:, 'Contract_One year':])\n",
    "data = data.join(dummy_PayMethod.loc[:, 'PayMethod_Credit card (automatic)':])\n",
    "\n",
    "print(data.head())"
   ]
  },
  {
   "cell_type": "markdown",
   "metadata": {},
   "source": [
    "### Step 4: Modeling with Decision Trees and Random Forests"
   ]
  },
  {
   "cell_type": "markdown",
   "metadata": {},
   "source": [
    "#### Define the labels of the covariates (columns) as a variable called 'train_cols'"
   ]
  },
  {
   "cell_type": "code",
   "execution_count": 90,
   "metadata": {},
   "outputs": [
    {
     "name": "stdout",
     "output_type": "stream",
     "text": [
      "['gender' 'SeniorCitizen' 'Partner' 'Dependents' 'tenure' 'PhoneService'\n",
      " 'PaperlessBilling' 'MonthlyCharges' 'IntServ_Fiber optic' 'IntServ_No'\n",
      " 'Contract_One year' 'Contract_Two year'\n",
      " 'PayMethod_Credit card (automatic)' 'PayMethod_Electronic check'\n",
      " 'PayMethod_Mailed check' 'intercept']\n"
     ]
    }
   ],
   "source": [
    "train_cols = data.columns[1:]\n",
    "print(train_cols.values)\n",
    "# train_cols\n",
    "# ##Index([u'gender', u'SeniorCitizen', u'Partner', u'Dependents', u'tenure',\n",
    "#  #      u'PhoneService', u'PaperlessBilling', u'MonthlyCharges',\n",
    "#  #      u'IntServ_Fiber optic', u'IntServ_No', u'Contract_One year',\n",
    "#  #      u'Contract_Two year', u'PayMethod_Credit card (automatic)',\n",
    "#  #      u'PayMethod_Electronic check', u'PayMethod_Mailed check', u'intercept'],\n",
    "#  #     dtype='object')"
   ]
  },
  {
   "cell_type": "code",
   "execution_count": 91,
   "metadata": {},
   "outputs": [
    {
     "data": {
      "text/plain": [
       "DecisionTreeClassifier(class_weight=None, criterion='gini', max_depth=None,\n",
       "            max_features=None, max_leaf_nodes=None,\n",
       "            min_impurity_decrease=0.0, min_impurity_split=None,\n",
       "            min_samples_leaf=1, min_samples_split=2,\n",
       "            min_weight_fraction_leaf=0.0, presort=False, random_state=None,\n",
       "            splitter='best')"
      ]
     },
     "execution_count": 91,
     "metadata": {},
     "output_type": "execute_result"
    }
   ],
   "source": [
    "#creating decision tree model\n",
    "model = DecisionTreeClassifier()\n",
    "\n",
    "X = data[train_cols]\n",
    "y = data['Churn']\n",
    "    \n",
    "# Fit the model\n",
    "model.fit(X, y)"
   ]
  },
  {
   "cell_type": "code",
   "execution_count": 92,
   "metadata": {},
   "outputs": [
    {
     "name": "stdout",
     "output_type": "stream",
     "text": [
      "CV AUC [0.65698138 0.67204963 0.65062432 0.63819669 0.67388475], Average AUC 0.658347354168\n"
     ]
    }
   ],
   "source": [
    "# use cross_val_score()\n",
    "\n",
    "# ... #\n",
    "\n",
    "scores = cross_val_score(model, X, y, scoring='roc_auc', cv=5)\n",
    "print('CV AUC {}, Average AUC {}'.format(scores, scores.mean()))"
   ]
  },
  {
   "cell_type": "markdown",
   "metadata": {},
   "source": [
    "So the model score is 0.65"
   ]
  },
  {
   "cell_type": "markdown",
   "metadata": {},
   "source": [
    " "
   ]
  },
  {
   "cell_type": "code",
   "execution_count": 93,
   "metadata": {},
   "outputs": [
    {
     "name": "stdout",
     "output_type": "stream",
     "text": [
      "('MonthlyCharges', 0.3415488799352737)\n",
      "('tenure', 0.2997808170481723)\n",
      "('IntServ_Fiber optic', 0.10756628694688723)\n",
      "('gender', 0.04105197501516411)\n",
      "('Partner', 0.03493677956027811)\n",
      "('PaperlessBilling', 0.027037808679474022)\n",
      "('PayMethod_Electronic check', 0.026883801862763467)\n",
      "('Dependents', 0.023452683853782182)\n",
      "('SeniorCitizen', 0.020325115248816642)\n",
      "('PayMethod_Credit card (automatic)', 0.019224816553572447)\n",
      "('PayMethod_Mailed check', 0.015028809894744017)\n",
      "('Contract_One year', 0.014099865120881537)\n",
      "('IntServ_No', 0.012071007466289014)\n",
      "('Contract_Two year', 0.010648833663490804)\n",
      "('PhoneService', 0.006342519150410469)\n",
      "('intercept', 0.0)\n",
      "\n",
      "Using only these features: ['MonthlyCharges', 'tenure', 'IntServ_Fiber optic', 'gender', 'Partner']\n"
     ]
    }
   ],
   "source": [
    "zipped = zip(*[X.columns,model.feature_importances_])\n",
    "zipped = sorted(zipped, key=lambda x: x[1], reverse=True)\n",
    "\n",
    "for a in zipped:\n",
    "    print(a)\n",
    "    \n",
    "top_features = [i[0] for i in zipped][:5]\n",
    "\n",
    "print('')\n",
    "print('Using only these features: '+str(top_features))"
   ]
  },
  {
   "cell_type": "code",
   "execution_count": 94,
   "metadata": {},
   "outputs": [
    {
     "data": {
      "text/plain": [
       "DecisionTreeClassifier(class_weight=None, criterion='gini', max_depth=None,\n",
       "            max_features=None, max_leaf_nodes=None,\n",
       "            min_impurity_decrease=0.0, min_impurity_split=None,\n",
       "            min_samples_leaf=1, min_samples_split=2,\n",
       "            min_weight_fraction_leaf=0.0, presort=False, random_state=None,\n",
       "            splitter='best')"
      ]
     },
     "execution_count": 94,
     "metadata": {},
     "output_type": "execute_result"
    }
   ],
   "source": [
    "# Re-fit the model with fewer features\n",
    "X_top = X[top_features]\n",
    "\n",
    "model.fit(X_top, y)"
   ]
  },
  {
   "cell_type": "code",
   "execution_count": 95,
   "metadata": {},
   "outputs": [
    {
     "name": "stdout",
     "output_type": "stream",
     "text": [
      "CV AUC [0.66344327 0.6510061  0.64201407 0.62980351 0.64716862], Average AUC 0.646687114314\n"
     ]
    }
   ],
   "source": [
    "# use cross_val_score()\n",
    "\n",
    "# ... #\n",
    "\n",
    "scores = cross_val_score(model, X_top, y, scoring='roc_auc', cv=5)\n",
    "print('CV AUC {}, Average AUC {}'.format(scores, scores.mean()))"
   ]
  },
  {
   "cell_type": "markdown",
   "metadata": {},
   "source": [
    "The model score is 0.64, which is 0.1 less than the previous, so having less variables didnt product any big changes in the effectiveness of it "
   ]
  },
  {
   "cell_type": "code",
   "execution_count": 80,
   "metadata": {},
   "outputs": [],
   "source": [
    "# Helper function to visualize Decision Trees (creates a file tree.png)\n",
    "def build_tree_image(model):\n",
    "    dotfile = open(\"tree.dot\", 'w')\n",
    "    export_graphviz(model, out_file = dotfile, feature_names = X.columns,\n",
    "                   filled=True, rounded=True)\n",
    "\n",
    "    dotfile.close()\n",
    "    system(\"dot -Tpng tree.dot -o tree.png\")\n",
    "    \n",
    "build_tree_image(model)"
   ]
  },
  {
   "cell_type": "code",
   "execution_count": 79,
   "metadata": {},
   "outputs": [],
   "source": [
    "# Helper function to visualize Decision Trees (shows tree inline)\n",
    "def build_tree_inline(model):\n",
    "    dot_data = StringIO()\n",
    "    export_graphviz(model, out_file=dot_data, feature_names=X.columns,  \n",
    "                filled=True, rounded=True, special_characters=True)\n",
    "    graph = pydotplus.graph_from_dot_data(dot_data.getvalue())  \n",
    "    Image(graph.create_png())\n",
    "    \n",
    "build_tree_inline(model)"
   ]
  },
  {
   "cell_type": "markdown",
   "metadata": {},
   "source": [
    "### Adjusting Decision Trees to Avoid Overfitting"
   ]
  },
  {
   "cell_type": "code",
   "execution_count": 78,
   "metadata": {},
   "outputs": [
    {
     "name": "stdout",
     "output_type": "stream",
     "text": [
      "CV AUC [0.82466183 0.83316725 0.79964125 0.81290159 0.82014413], Average AUC 0.818103207954\n"
     ]
    }
   ],
   "source": [
    "#creating the model \n",
    "model = DecisionTreeClassifier(\n",
    "                max_depth = 4,\n",
    "                min_samples_leaf = 3)\n",
    "\n",
    "model.fit(X, y)\n",
    "build_tree_image(model)\n",
    "build_tree_inline(model)\n",
    "\n",
    "scores = cross_val_score(model, X, y, scoring='roc_auc', cv=5)\n",
    "print('CV AUC {}, Average AUC {}'.format(scores, scores.mean()))"
   ]
  },
  {
   "cell_type": "markdown",
   "metadata": {},
   "source": [
    "The model score is 0.81 which is higher than the previous, in this case due to the fact that we avoid overfitting. And also considering that we were using the same number of variables "
   ]
  },
  {
   "cell_type": "markdown",
   "metadata": {},
   "source": [
    "### Random Forest Models"
   ]
  },
  {
   "cell_type": "code",
   "execution_count": 69,
   "metadata": {},
   "outputs": [
    {
     "data": {
      "text/plain": [
       "RandomForestClassifier(bootstrap=True, class_weight=None, criterion='gini',\n",
       "            max_depth=None, max_features='auto', max_leaf_nodes=None,\n",
       "            min_impurity_decrease=0.0, min_impurity_split=None,\n",
       "            min_samples_leaf=1, min_samples_split=2,\n",
       "            min_weight_fraction_leaf=0.0, n_estimators=10, n_jobs=1,\n",
       "            oob_score=False, random_state=None, verbose=0,\n",
       "            warm_start=False)"
      ]
     },
     "execution_count": 69,
     "metadata": {},
     "output_type": "execute_result"
    }
   ],
   "source": [
    "#creating the model \n",
    "model = RandomForestClassifier(n_estimators = 10)\n",
    "\n",
    "model.fit(X, y)"
   ]
  },
  {
   "cell_type": "code",
   "execution_count": 70,
   "metadata": {},
   "outputs": [
    {
     "name": "stdout",
     "output_type": "stream",
     "text": [
      "CV AUC [0.76127498 0.76242164 0.74947974 0.73030925 0.75733628], Average AUC 0.752164377922\n"
     ]
    }
   ],
   "source": [
    "# use cross_val_score()\n",
    "\n",
    "# ... #\n",
    "\n",
    "scores = cross_val_score(model, X, y, scoring='roc_auc', cv=5)\n",
    "print('CV AUC {}, Average AUC {}'.format(scores, scores.mean()))"
   ]
  },
  {
   "cell_type": "markdown",
   "metadata": {},
   "source": [
    "This result is lower than the adjusted decision tree "
   ]
  },
  {
   "cell_type": "code",
   "execution_count": 71,
   "metadata": {},
   "outputs": [
    {
     "data": {
      "text/html": [
       "<div>\n",
       "<style scoped>\n",
       "    .dataframe tbody tr th:only-of-type {\n",
       "        vertical-align: middle;\n",
       "    }\n",
       "\n",
       "    .dataframe tbody tr th {\n",
       "        vertical-align: top;\n",
       "    }\n",
       "\n",
       "    .dataframe thead th {\n",
       "        text-align: right;\n",
       "    }\n",
       "</style>\n",
       "<table border=\"1\" class=\"dataframe\">\n",
       "  <thead>\n",
       "    <tr style=\"text-align: right;\">\n",
       "      <th></th>\n",
       "      <th>Features</th>\n",
       "      <th>Importance Score</th>\n",
       "    </tr>\n",
       "  </thead>\n",
       "  <tbody>\n",
       "    <tr>\n",
       "      <th>0</th>\n",
       "      <td>MonthlyCharges</td>\n",
       "      <td>0.556003</td>\n",
       "    </tr>\n",
       "    <tr>\n",
       "      <th>1</th>\n",
       "      <td>tenure</td>\n",
       "      <td>0.340655</td>\n",
       "    </tr>\n",
       "    <tr>\n",
       "      <th>2</th>\n",
       "      <td>IntServ_Fiber optic</td>\n",
       "      <td>0.070343</td>\n",
       "    </tr>\n",
       "    <tr>\n",
       "      <th>4</th>\n",
       "      <td>Partner</td>\n",
       "      <td>0.020768</td>\n",
       "    </tr>\n",
       "    <tr>\n",
       "      <th>3</th>\n",
       "      <td>gender</td>\n",
       "      <td>0.012230</td>\n",
       "    </tr>\n",
       "  </tbody>\n",
       "</table>\n",
       "</div>"
      ],
      "text/plain": [
       "              Features  Importance Score\n",
       "0       MonthlyCharges          0.556003\n",
       "1               tenure          0.340655\n",
       "2  IntServ_Fiber optic          0.070343\n",
       "4              Partner          0.020768\n",
       "3               gender          0.012230"
      ]
     },
     "execution_count": 71,
     "metadata": {},
     "output_type": "execute_result"
    }
   ],
   "source": [
    "features = X.columns\n",
    "feature_importances = model.feature_importances_\n",
    "\n",
    "features_df = pd.DataFrame({'Features': features, 'Importance Score': feature_importances})\n",
    "features_df.sort_values('Importance Score', inplace=True, ascending=False)\n",
    "\n",
    "features_df"
   ]
  },
  {
   "cell_type": "code",
   "execution_count": 76,
   "metadata": {},
   "outputs": [
    {
     "name": "stdout",
     "output_type": "stream",
     "text": [
      "CV AUC [0.78716087 0.78344928 0.77099199], Average AUC 0.780534044406\n",
      "n trees: 1, CV AUC [0.65902836 0.66632375 0.64249713], Average AUC 0.655949746141\n",
      "n trees: 11, CV AUC [0.77125034 0.76911964 0.74797772], Average AUC 0.762782566036\n",
      "n trees: 21, CV AUC [0.7749055  0.77169196 0.76246266], Average AUC 0.769686704602\n",
      "n trees: 31, CV AUC [0.7777856  0.77959173 0.76894336], Average AUC 0.77544023113\n",
      "n trees: 41, CV AUC [0.78713802 0.78051695 0.77284848], Average AUC 0.780167813393\n",
      "n trees: 51, CV AUC [0.78365913 0.780821   0.7696009 ], Average AUC 0.778027009693\n",
      "n trees: 61, CV AUC [0.78648421 0.77889689 0.77186544], Average AUC 0.779082177825\n",
      "n trees: 71, CV AUC [0.78332663 0.77954603 0.77066322], Average AUC 0.777845293201\n",
      "n trees: 81, CV AUC [0.78925239 0.78057943 0.77290304], Average AUC 0.780911622985\n",
      "n trees: 91, CV AUC [0.78706667 0.77916456 0.77020574], Average AUC 0.778812323394\n",
      "n trees: 101, CV AUC [0.78565086 0.78103505 0.77356431], Average AUC 0.78008340616\n",
      "n trees: 111, CV AUC [0.78413573 0.77953017 0.77275195], Average AUC 0.778805950104\n",
      "n trees: 121, CV AUC [0.78504089 0.78427703 0.7754679 ], Average AUC 0.781595274936\n",
      "n trees: 131, CV AUC [0.78617549 0.78120153 0.77218301], Average AUC 0.779853345931\n",
      "n trees: 141, CV AUC [0.78643898 0.78458342 0.77205524], Average AUC 0.781025875869\n",
      "n trees: 151, CV AUC [0.78894508 0.78133863 0.77286107], Average AUC 0.781048260107\n",
      "n trees: 161, CV AUC [0.78769809 0.78385453 0.77505379], Average AUC 0.782202136513\n",
      "n trees: 171, CV AUC [0.78706387 0.78211882 0.77583304], Average AUC 0.781671909864\n",
      "n trees: 181, CV AUC [0.78569563 0.78417723 0.77491296], Average AUC 0.781595274936\n",
      "n trees: 191, CV AUC [0.78773167 0.78326414 0.77317585], Average AUC 0.781390552421\n",
      "n trees: 201, CV AUC [0.78726673 0.78533842 0.77476606], Average AUC 0.782457068119\n",
      "n trees: 211, CV AUC [0.78747471 0.78191596 0.77231312], Average AUC 0.780567931656\n",
      "n trees: 221, CV AUC [0.78922255 0.78277449 0.77405816], Average AUC 0.782018399222\n",
      "n trees: 231, CV AUC [0.78816723 0.78414133 0.77599533], Average AUC 0.78276796032\n",
      "n trees: 241, CV AUC [0.78814531 0.78548858 0.77491063], Average AUC 0.782848170508\n"
     ]
    }
   ],
   "source": [
    "scores = cross_val_score(model, X, y, scoring='roc_auc')\n",
    "print('CV AUC {}, Average AUC {}'.format(scores, scores.mean()))\n",
    "\n",
    "for n_trees in range(1, 250, 10):\n",
    "    model = RandomForestClassifier(n_estimators = n_trees)\n",
    "    scores = cross_val_score(model, X, y, scoring='roc_auc')\n",
    "    print('n trees: {}, CV AUC {}, Average AUC {}'.format(n_trees, scores, scores.mean()))"
   ]
  },
  {
   "cell_type": "markdown",
   "metadata": {},
   "source": [
    "We can see that the score is going up but we will require +250 trees to achieve a better score closer to the one already obtained above "
   ]
  },
  {
   "cell_type": "code",
   "execution_count": 77,
   "metadata": {},
   "outputs": [
    {
     "name": "stdout",
     "output_type": "stream",
     "text": [
      "{'n_estimators': [1, 11, 21, 31, 41, 51, 61, 71, 81, 91]}\n",
      "0.781628074063\n",
      "RandomForestClassifier(bootstrap=True, class_weight=None, criterion='gini',\n",
      "            max_depth=None, max_features='auto', max_leaf_nodes=None,\n",
      "            min_impurity_decrease=0.0, min_impurity_split=None,\n",
      "            min_samples_leaf=1, min_samples_split=2,\n",
      "            min_weight_fraction_leaf=0.0, n_estimators=81, n_jobs=1,\n",
      "            oob_score=False, random_state=None, verbose=0,\n",
      "            warm_start=False)\n"
     ]
    }
   ],
   "source": [
    "#grid_search \n",
    "n_trees = range(1, 100, 10)\n",
    "gs = grid_search.GridSearchCV(\n",
    "    estimator=RandomForestClassifier(),\n",
    "    param_grid={'n_estimators': n_trees},\n",
    "    scoring='roc_auc')\n",
    "\n",
    "gs.fit(X, y)\n",
    "\n",
    "print(gs.param_grid) # Parameter space explored\n",
    "print(gs.best_score_) # Best 'neg_mean_squared_error'\n",
    "print(gs.best_estimator_) # Best combination of paramaters"
   ]
  },
  {
   "cell_type": "markdown",
   "metadata": {},
   "source": [
    "Even though grid search scores high is not as high as the decision tree "
   ]
  },
  {
   "cell_type": "markdown",
   "metadata": {},
   "source": [
    "### Step 5: Modeling with Logistic Regression\n",
    "We're going to add a constant term for our Logistic Regression\n",
    "- The statsmodels function we're going to be using requires that intercepts/constants are specified explicitly"
   ]
  },
  {
   "cell_type": "code",
   "execution_count": 96,
   "metadata": {},
   "outputs": [],
   "source": [
    "# manually add the intercept\n",
    "data['intercept'] = 1.0"
   ]
  },
  {
   "cell_type": "markdown",
   "metadata": {},
   "source": [
    "#### Fit the model"
   ]
  },
  {
   "cell_type": "markdown",
   "metadata": {},
   "source": [
    "The features that will be used in this case will be the top features found in the decision tree model. "
   ]
  },
  {
   "cell_type": "code",
   "execution_count": 97,
   "metadata": {},
   "outputs": [
    {
     "name": "stdout",
     "output_type": "stream",
     "text": [
      "Optimization terminated successfully.\n",
      "         Current function value: 0.459545\n",
      "         Iterations 6\n"
     ]
    }
   ],
   "source": [
    "logit = sm.Logit(data['Churn'], X_top)\n",
    "result = logit.fit()"
   ]
  },
  {
   "cell_type": "markdown",
   "metadata": {},
   "source": [
    "#### Print the summary results"
   ]
  },
  {
   "cell_type": "code",
   "execution_count": 98,
   "metadata": {},
   "outputs": [
    {
     "name": "stdout",
     "output_type": "stream",
     "text": [
      "                           Results: Logit\n",
      "====================================================================\n",
      "Model:                Logit             No. Iterations:    6.0000   \n",
      "Dependent Variable:   Churn             Pseudo R-squared:  0.206    \n",
      "Date:                 2018-05-15 22:25  AIC:               6473.0348\n",
      "No. Observations:     7032              BIC:               6507.3259\n",
      "Df Model:             4                 Log-Likelihood:    -3231.5  \n",
      "Df Residuals:         7027              LL-Null:           -4071.7  \n",
      "Converged:            1.0000            Scale:             1.0000   \n",
      "--------------------------------------------------------------------\n",
      "                     Coef.  Std.Err.    z     P>|z|   [0.025  0.975]\n",
      "--------------------------------------------------------------------\n",
      "MonthlyCharges      -0.0051   0.0014  -3.8050 0.0001 -0.0078 -0.0025\n",
      "tenure              -0.0477   0.0017 -27.3001 0.0000 -0.0512 -0.0443\n",
      "IntServ_Fiber optic  1.7902   0.1019  17.5618 0.0000  1.5904  1.9900\n",
      "gender              -0.2358   0.0587  -4.0198 0.0001 -0.3507 -0.1208\n",
      "Partner             -0.2161   0.0654  -3.3042 0.0010 -0.3442 -0.0879\n",
      "====================================================================\n",
      "\n"
     ]
    }
   ],
   "source": [
    "print(result.summary2())"
   ]
  },
  {
   "cell_type": "markdown",
   "metadata": {},
   "source": [
    "#### Calculate the odds ratio of the coefficients and their 95% [confidence intervals]\n",
    "    "
   ]
  },
  {
   "cell_type": "code",
   "execution_count": 103,
   "metadata": {},
   "outputs": [
    {
     "name": "stdout",
     "output_type": "stream",
     "text": [
      "                         2.5%     97.5%        OR\n",
      "MonthlyCharges       0.992234  0.997508  0.994867\n",
      "tenure               0.950114  0.956650  0.953376\n",
      "IntServ_Fiber optic  4.905859  7.315690  5.990805\n",
      "gender               0.704160  0.886190  0.789949\n",
      "Partner              0.708760  0.915850  0.805679\n"
     ]
    }
   ],
   "source": [
    "conf = result.conf_int()\n",
    "conf['OR'] = params\n",
    "conf.columns = ['2.5%', '97.5%', 'OR']\n",
    "print(np.exp(conf)) # confidence intervals (we get the odds ratio from the log odds by exponentiating the coefficient)"
   ]
  }
 ],
 "metadata": {
  "kernelspec": {
   "display_name": "Python 2",
   "language": "python",
   "name": "python2"
  },
  "language_info": {
   "codemirror_mode": {
    "name": "ipython",
    "version": 2
   },
   "file_extension": ".py",
   "mimetype": "text/x-python",
   "name": "python",
   "nbconvert_exporter": "python",
   "pygments_lexer": "ipython2",
   "version": "2.7.14"
  }
 },
 "nbformat": 4,
 "nbformat_minor": 1
}
